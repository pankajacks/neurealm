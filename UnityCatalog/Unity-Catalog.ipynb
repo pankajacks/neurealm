{
 "cells": [
  {
   "cell_type": "markdown",
   "metadata": {
    "application/vnd.databricks.v1+cell": {
     "cellMetadata": {},
     "inputWidgets": {},
     "nuid": "808561a6-8aeb-40c9-ba2d-40a81d629037",
     "showTitle": false,
     "tableResultSettingsMap": {},
     "title": ""
    }
   },
   "source": [
    "# Governing Data with Unity Catalog"
   ]
  },
  {
   "cell_type": "markdown",
   "metadata": {
    "application/vnd.databricks.v1+cell": {
     "cellMetadata": {},
     "inputWidgets": {},
     "nuid": "b928b3cf-622e-483a-9e47-79aca60c4f30",
     "showTitle": false,
     "tableResultSettingsMap": {},
     "title": ""
    }
   },
   "source": [
    "### **What Is Unity Catalog?**\n",
    "\n",
    "* An **open-source, centralized governance** solution across all workspaces and clouds.\n",
    "* Manages files, tables, ML models, and dashboards uniformly.\n",
    "* Ensures consistent **access control** and simplified **data lifecycle management**.\n",
    "\n",
    "[Learn More](https://docs.databricks.com/aws/en/data-governance/unity-catalog/)"
   ]
  },
  {
   "cell_type": "markdown",
   "metadata": {
    "application/vnd.databricks.v1+cell": {
     "cellMetadata": {},
     "inputWidgets": {},
     "nuid": "eea7c7e9-7d67-4ba3-8ee1-450a554a923a",
     "showTitle": false,
     "tableResultSettingsMap": {},
     "title": ""
    }
   },
   "source": [
    "### **Unity Catalog Architecture**\n",
    "\n",
    "#### **Before UC**\n",
    "\n",
    "* Governance was isolated per workspace.\n",
    "* Identity, metastore, and access control required separate setup.\n",
    "* Led to **redundancy and inconsistencies**.\n",
    "\n",
    "#### **With UC**\n",
    "\n",
    "* Centralized management via **account console**.\n",
    "* Decoupled from individual workspaces.\n",
    "* Improves **consistency, security, and operational efficiency**."
   ]
  },
  {
   "cell_type": "markdown",
   "metadata": {
    "application/vnd.databricks.v1+cell": {
     "cellMetadata": {},
     "inputWidgets": {},
     "nuid": "ad433918-8faa-4fbd-9272-5aaf0a380374",
     "showTitle": false,
     "tableResultSettingsMap": {},
     "title": ""
    }
   },
   "source": [
    "### **Key Architectural Advancements**\n",
    "\n",
    "1. **Centralized Identity Management**\n",
    "\n",
    "   * Users and groups managed via account console.\n",
    "   * Reused across multiple workspaces.\n",
    "\n",
    "2. **Centralized Metastore**\n",
    "\n",
    "   * Single UC metastore per region can serve multiple workspaces.\n",
    "   * Reduces data duplication and enhances data sharing.\n",
    "\n",
    "3. **Centralized Access Control**\n",
    "\n",
    "   * Access policies defined once and enforced across all workspaces.\n",
    "   * Promotes consistency and reduces risk.\n"
   ]
  },
  {
   "cell_type": "markdown",
   "metadata": {
    "application/vnd.databricks.v1+cell": {
     "cellMetadata": {},
     "inputWidgets": {},
     "nuid": "ac6ec955-93b7-4016-b1ee-b16cbaaffb42",
     "showTitle": false,
     "tableResultSettingsMap": {},
     "title": ""
    }
   },
   "source": [
    "### **Three-Level Namespace**\n",
    "\n",
    "* Transition from Hive’s `schema.table` to UC’s `catalog.schema.table`.\n",
    "* Enables **granular organization** and **better scalability**."
   ]
  },
  {
   "cell_type": "markdown",
   "metadata": {
    "application/vnd.databricks.v1+cell": {
     "cellMetadata": {},
     "inputWidgets": {},
     "nuid": "e83b1b04-e5ea-4a04-a7ef-f8ee8b60ca1c",
     "showTitle": false,
     "tableResultSettingsMap": {},
     "title": ""
    }
   },
   "source": [
    "### The Unity Catalog object model\n",
    "\n",
    "1. **Metastore**\n",
    "\n",
    "   * Top-level container for catalogs and access policies.\n",
    "   * Managed independently of workspaces.\n",
    "\n",
    "1. **Catalogs**\n",
    "\n",
    "   * Group of schemas; 1st level in namespace.\n",
    "\n",
    "1. **Schemas (Databases)**\n",
    "\n",
    "   * Contain related tables, views, ML models, etc.\n",
    "   * 2nd level in namespace.\n",
    "\n",
    "\n",
    "\n",
    "1. **Storage Access Objects**\n",
    "\n",
    "   * **Storage Credentials**: Abstract cloud credentials.\n",
    "   * **External Locations**: Map credentials to storage paths.\n",
    "\n",
    "1. **Delta Sharing Entities**\n",
    "\n",
    "   * **Shares**: Collections of shareable data assets.\n",
    "   * Facilitate data exchange with external consumers.\n",
    "\n",
    "![The Unity Catalog object model](https://docs.databricks.com/aws/en/assets/images/object-model-40d730065eefed283b936a8664f1b247.png)"
   ]
  },
  {
   "cell_type": "markdown",
   "metadata": {
    "application/vnd.databricks.v1+cell": {
     "cellMetadata": {},
     "inputWidgets": {},
     "nuid": "f2fc125a-66c2-4859-bf67-0b36b14de14a",
     "showTitle": false,
     "tableResultSettingsMap": {},
     "title": ""
    }
   },
   "source": [
    "### **Identity Management**\n",
    "\n",
    "* **Users**: Human users; identified by email.\n",
    "* **Service Principals**: App/tool identities; support automation.\n",
    "* **Groups**: Logical units combining users/service principals.\n",
    "\n",
    "  * Groups can be **nested** for better role delegation."
   ]
  },
  {
   "cell_type": "markdown",
   "metadata": {
    "application/vnd.databricks.v1+cell": {
     "cellMetadata": {},
     "inputWidgets": {},
     "nuid": "adc22ade-74e0-4e6b-a222-18521cb8e497",
     "showTitle": false,
     "tableResultSettingsMap": {},
     "title": ""
    }
   },
   "source": [
    "### **Identity Federation**\n",
    "\n",
    "* Identities defined at **account level**.\n",
    "* Federated to multiple workspaces.\n",
    "* Reduces duplication and enhances **security + administrative efficiency**."
   ]
  },
  {
   "cell_type": "markdown",
   "metadata": {
    "application/vnd.databricks.v1+cell": {
     "cellMetadata": {},
     "inputWidgets": {},
     "nuid": "35bf3ca1-33c3-4a97-9a8d-b72035871136",
     "showTitle": false,
     "tableResultSettingsMap": {},
     "title": ""
    }
   },
   "source": [
    "\n",
    "### **UC Security Model**\n",
    "\n",
    "* Based on **ANSI SQL GRANT** statements.\n",
    "\n",
    "#### **Privileges**\n",
    "\n",
    "* **Core Privileges:**\n",
    "\n",
    "  * `CREATE`: Create objects (catalog, schema, table, function).\n",
    "  * `USE`: Access catalogs or schemas.\n",
    "  * `SELECT`: Read data.\n",
    "  * `MODIFY`: Insert, update, delete.\n",
    "\n",
    "* **Storage Privileges:**\n",
    "\n",
    "  * `READ FILES`: Read from volumes/storage.\n",
    "  * `WRITE FILES`: Write to storage.\n",
    "\n",
    "* **Execution Privilege:**\n",
    "\n",
    "  * `EXECUTE`: Run functions or models."
   ]
  },
  {
   "cell_type": "markdown",
   "metadata": {
    "application/vnd.databricks.v1+cell": {
     "cellMetadata": {},
     "inputWidgets": {},
     "nuid": "5851e7cf-7c82-4819-9093-fe665830df3b",
     "showTitle": false,
     "tableResultSettingsMap": {},
     "title": ""
    }
   },
   "source": [
    "### Create Catalog"
   ]
  },
  {
   "cell_type": "code",
   "execution_count": 0,
   "metadata": {
    "application/vnd.databricks.v1+cell": {
     "cellMetadata": {
      "byteLimit": 2048000,
      "rowLimit": 10000
     },
     "inputWidgets": {},
     "nuid": "a90db0d9-b986-4da3-801d-4c23bc697b4b",
     "showTitle": false,
     "tableResultSettingsMap": {},
     "title": ""
    }
   },
   "outputs": [],
   "source": [
    "-- Create a catalog named 'sales_catalog'\n",
    "DROP CATALOG IF EXISTS sales_catalog CASCADE;\n",
    "CREATE CATALOG sales_catalog\n",
    "MANAGED LOCATION 'abfss://catalog@storage33e.dfs.core.windows.net/sales_db'\n",
    "COMMENT 'Catalog to manage sales-related data';"
   ]
  },
  {
   "cell_type": "markdown",
   "metadata": {
    "application/vnd.databricks.v1+cell": {
     "cellMetadata": {},
     "inputWidgets": {},
     "nuid": "0504a87c-2585-4a53-9af7-f4d076509187",
     "showTitle": false,
     "tableResultSettingsMap": {},
     "title": ""
    }
   },
   "source": [
    "### Create Schema (Database)"
   ]
  },
  {
   "cell_type": "code",
   "execution_count": 0,
   "metadata": {
    "application/vnd.databricks.v1+cell": {
     "cellMetadata": {
      "byteLimit": 2048000,
      "rowLimit": 10000
     },
     "inputWidgets": {},
     "nuid": "6f1c3dae-cfe7-4832-aeae-46798d84000b",
     "showTitle": false,
     "tableResultSettingsMap": {},
     "title": ""
    }
   },
   "outputs": [],
   "source": [
    "-- Create a schema under the catalog\n",
    "DROP SCHEMA IF EXISTS sales_catalog.retail_db;\n",
    "CREATE SCHEMA sales_catalog.retail_db\n",
    "COMMENT 'Schema for retail sales data';"
   ]
  },
  {
   "cell_type": "markdown",
   "metadata": {
    "application/vnd.databricks.v1+cell": {
     "cellMetadata": {},
     "inputWidgets": {},
     "nuid": "cb9085bc-2b3e-487b-9dc1-73778e5b8c72",
     "showTitle": false,
     "tableResultSettingsMap": {},
     "title": ""
    }
   },
   "source": [
    "### Create Table with Sample Data"
   ]
  },
  {
   "cell_type": "code",
   "execution_count": 0,
   "metadata": {
    "application/vnd.databricks.v1+cell": {
     "cellMetadata": {
      "byteLimit": 2048000,
      "rowLimit": 10000
     },
     "inputWidgets": {},
     "nuid": "ab348a2d-ca66-4b5a-96c4-6393023c4295",
     "showTitle": false,
     "tableResultSettingsMap": {},
     "title": ""
    }
   },
   "outputs": [],
   "source": [
    "-- Create a table in the schema\n",
    "DROP TABLE IF EXISTS sales_catalog.retail_db.fact_sales;\n",
    "CREATE TABLE sales_catalog.retail_db.fact_sales (\n",
    "  sale_id INT,\n",
    "  product_name STRING,\n",
    "  quantity INT,\n",
    "  unit_price DOUBLE,\n",
    "  sale_date DATE\n",
    ");\n",
    "\n",
    "-- Insert sample data\n",
    "INSERT INTO sales_catalog.retail_db.fact_sales VALUES\n",
    "(1, 'Mobile', 2, 19999.0, '2024-01-01'),\n",
    "(2, 'Laptop', 1, 49999.0, '2024-01-02'),\n",
    "(3, 'Tablet', 3, 14999.0, '2024-01-03');\n"
   ]
  },
  {
   "cell_type": "markdown",
   "metadata": {
    "application/vnd.databricks.v1+cell": {
     "cellMetadata": {},
     "inputWidgets": {},
     "nuid": "0f159779-6420-4de7-a454-1f71b85ffb39",
     "showTitle": false,
     "tableResultSettingsMap": {},
     "title": ""
    }
   },
   "source": [
    "### Query the Data"
   ]
  },
  {
   "cell_type": "code",
   "execution_count": 0,
   "metadata": {
    "application/vnd.databricks.v1+cell": {
     "cellMetadata": {
      "byteLimit": 2048000,
      "rowLimit": 10000
     },
     "inputWidgets": {},
     "nuid": "7ac70da5-a058-43df-b420-044c4de74220",
     "showTitle": false,
     "tableResultSettingsMap": {},
     "title": ""
    }
   },
   "outputs": [],
   "source": [
    "-- Query sample data\n",
    "SELECT * FROM sales_catalog.retail_db.fact_sales;"
   ]
  },
  {
   "cell_type": "markdown",
   "metadata": {
    "application/vnd.databricks.v1+cell": {
     "cellMetadata": {},
     "inputWidgets": {},
     "nuid": "3f33bc89-2a5e-4e23-967b-dd0c44d8f6ac",
     "showTitle": false,
     "tableResultSettingsMap": {},
     "title": ""
    }
   },
   "source": [
    "### Grant Object-Level Permissions"
   ]
  },
  {
   "cell_type": "code",
   "execution_count": 0,
   "metadata": {
    "application/vnd.databricks.v1+cell": {
     "cellMetadata": {
      "byteLimit": 2048000,
      "rowLimit": 10000
     },
     "inputWidgets": {},
     "nuid": "d3f93f79-6827-4273-af47-e9a13d8f9e2b",
     "showTitle": false,
     "tableResultSettingsMap": {},
     "title": ""
    }
   },
   "outputs": [],
   "source": [
    "-- Grant USAGE on the catalog\n",
    "GRANT USAGE ON CATALOG sales_catalog TO `user1@pankajacksgmail.onmicrosoft.com`;"
   ]
  },
  {
   "cell_type": "code",
   "execution_count": 0,
   "metadata": {
    "application/vnd.databricks.v1+cell": {
     "cellMetadata": {
      "byteLimit": 2048000,
      "rowLimit": 10000
     },
     "inputWidgets": {},
     "nuid": "94a4d68c-c318-41dd-83bd-ba055e536f00",
     "showTitle": false,
     "tableResultSettingsMap": {},
     "title": ""
    }
   },
   "outputs": [],
   "source": [
    "-- Grant USAGE on the schema\n",
    "GRANT USAGE ON SCHEMA sales_catalog.retail_db TO `retail_analysts`;"
   ]
  },
  {
   "cell_type": "code",
   "execution_count": 0,
   "metadata": {
    "application/vnd.databricks.v1+cell": {
     "cellMetadata": {
      "byteLimit": 2048000,
      "rowLimit": 10000
     },
     "inputWidgets": {},
     "nuid": "16f6fe72-fc29-45eb-afc0-24de0ae373bc",
     "showTitle": false,
     "tableResultSettingsMap": {},
     "title": ""
    }
   },
   "outputs": [],
   "source": [
    "-- Grant SELECT on the table\n",
    "GRANT SELECT ON TABLE sales_catalog.retail_db.fact_sales TO `user1@pankajacksgmail.onmicrosoft.com`;"
   ]
  },
  {
   "cell_type": "markdown",
   "metadata": {
    "application/vnd.databricks.v1+cell": {
     "cellMetadata": {},
     "inputWidgets": {},
     "nuid": "8a7648d2-1641-4914-80c1-9afc9d3ba545",
     "showTitle": false,
     "tableResultSettingsMap": {},
     "title": ""
    }
   },
   "source": [
    "### Deny or Revoke Access"
   ]
  },
  {
   "cell_type": "code",
   "execution_count": 0,
   "metadata": {
    "application/vnd.databricks.v1+cell": {
     "cellMetadata": {
      "byteLimit": 2048000,
      "rowLimit": 10000
     },
     "inputWidgets": {},
     "nuid": "0fad25f2-3b0f-454d-9ee0-f24c34891fae",
     "showTitle": false,
     "tableResultSettingsMap": {},
     "title": ""
    }
   },
   "outputs": [],
   "source": [
    "-- Revoking SELECT privileges on the table from the user\n",
    "REVOKE SELECT ON\n",
    "TABLE sales_catalog.retail_db.fact_sales\n",
    "FROM `user1@pankajacksgmail.onmicrosoft.com`;"
   ]
  },
  {
   "cell_type": "code",
   "execution_count": 0,
   "metadata": {
    "application/vnd.databricks.v1+cell": {
     "cellMetadata": {},
     "inputWidgets": {},
     "nuid": "be98b5f6-6ee8-426b-bc8e-654ce7836ef2",
     "showTitle": false,
     "tableResultSettingsMap": {},
     "title": ""
    }
   },
   "outputs": [],
   "source": [
    "-- Denying SELECT privileges on the table to the user\n",
    "DENY SELECT ON \n",
    "TABLE sales_catalog.retail_db.fact_sales\n",
    "TO `user1@pankajacksgmail.onmicrosoft.com`;"
   ]
  }
 ],
 "metadata": {
  "application/vnd.databricks.v1+notebook": {
   "computePreferences": null,
   "dashboards": [],
   "environmentMetadata": {
    "base_environment": "",
    "environment_version": "2"
   },
   "inputWidgetPreferences": null,
   "language": "sql",
   "notebookMetadata": {
    "pythonIndentUnit": 4
   },
   "notebookName": "Unity-Catalog",
   "widgets": {}
  },
  "language_info": {
   "name": "sql"
  }
 },
 "nbformat": 4,
 "nbformat_minor": 0
}
