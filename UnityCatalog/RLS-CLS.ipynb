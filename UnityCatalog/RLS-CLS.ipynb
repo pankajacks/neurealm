{
 "cells": [
  {
   "cell_type": "markdown",
   "metadata": {
    "application/vnd.databricks.v1+cell": {
     "cellMetadata": {},
     "inputWidgets": {},
     "nuid": "9323cbb2-2474-4490-9fb3-7af7d14b40b0",
     "showTitle": false,
     "tableResultSettingsMap": {},
     "title": ""
    }
   },
   "source": [
    "# RLS-CLS"
   ]
  },
  {
   "cell_type": "markdown",
   "metadata": {
    "application/vnd.databricks.v1+cell": {
     "cellMetadata": {},
     "inputWidgets": {},
     "nuid": "9762d25d-316e-4f02-9697-d29b9c32b7d2",
     "showTitle": false,
     "tableResultSettingsMap": {},
     "title": ""
    }
   },
   "source": [
    "## Column Level Security"
   ]
  },
  {
   "cell_type": "markdown",
   "metadata": {
    "application/vnd.databricks.v1+cell": {
     "cellMetadata": {},
     "inputWidgets": {},
     "nuid": "99bc662c-11b2-47bc-af4c-17d9c6746096",
     "showTitle": false,
     "tableResultSettingsMap": {},
     "title": ""
    }
   },
   "source": [
    "### Create schema in sales_catalog"
   ]
  },
  {
   "cell_type": "code",
   "execution_count": 0,
   "metadata": {
    "application/vnd.databricks.v1+cell": {
     "cellMetadata": {
      "byteLimit": 2048000,
      "rowLimit": 10000
     },
     "inputWidgets": {},
     "nuid": "8dc57336-55ad-49b8-92a4-eb6a12ab3b78",
     "showTitle": false,
     "tableResultSettingsMap": {},
     "title": ""
    }
   },
   "outputs": [],
   "source": [
    "USE CATALOG sales_catalog;\n",
    "DROP SCHEMA IF EXISTS secure_schema CASCADE;\n",
    "CREATE SCHEMA secure_schema;\n",
    "USE SCHEMA secure_schema;"
   ]
  },
  {
   "cell_type": "markdown",
   "metadata": {
    "application/vnd.databricks.v1+cell": {
     "cellMetadata": {},
     "inputWidgets": {},
     "nuid": "1a6b0efd-5c58-4fa4-9bfb-0e5abaae4c5d",
     "showTitle": false,
     "tableResultSettingsMap": {},
     "title": ""
    }
   },
   "source": [
    "### Add Masking Policies to Columns"
   ]
  },
  {
   "cell_type": "code",
   "execution_count": 0,
   "metadata": {
    "application/vnd.databricks.v1+cell": {
     "cellMetadata": {
      "byteLimit": 2048000,
      "rowLimit": 10000
     },
     "inputWidgets": {},
     "nuid": "496b2b07-4097-4f88-9615-7eba4c43ccae",
     "showTitle": false,
     "tableResultSettingsMap": {},
     "title": ""
    }
   },
   "outputs": [],
   "source": [
    "-- Create masking policy for email\n",
    "CREATE OR REPLACE FUNCTION email_mask(email STRING)\n",
    "RETURN CASE\n",
    "  WHEN is_account_group_member('finance_team') THEN email\n",
    "  ELSE CONCAT('***@', substring_index(email, '@', -1))\n",
    "END;\n",
    "\n",
    "-- Create masking policy for phone\n",
    "CREATE OR REPLACE FUNCTION phone_mask(phone STRING)\n",
    "RETURN CASE\n",
    "  WHEN is_account_group_member('finance_team') THEN phone\n",
    "  ELSE CONCAT('******', RIGHT(phone, 4))\n",
    "END;"
   ]
  },
  {
   "cell_type": "markdown",
   "metadata": {
    "application/vnd.databricks.v1+cell": {
     "cellMetadata": {},
     "inputWidgets": {},
     "nuid": "1f3700ff-61ed-4f08-a558-9b5928a27f30",
     "showTitle": false,
     "tableResultSettingsMap": {},
     "title": ""
    }
   },
   "source": [
    "### Create customer with sensitive data"
   ]
  },
  {
   "cell_type": "code",
   "execution_count": 0,
   "metadata": {
    "application/vnd.databricks.v1+cell": {
     "cellMetadata": {
      "byteLimit": 2048000,
      "rowLimit": 10000
     },
     "inputWidgets": {},
     "nuid": "cac1e625-fc86-42cd-90bc-3ef9aaa76dc3",
     "showTitle": false,
     "tableResultSettingsMap": {},
     "title": ""
    }
   },
   "outputs": [],
   "source": [
    "CREATE OR REPLACE TABLE customer (\n",
    "  customer_id INT,\n",
    "  customer_name STRING,\n",
    "  customer_email STRING MASK email_mask,\n",
    "  customer_phone STRING MASK phone_mask,\n",
    "  credit_card STRING,\n",
    "  region STRING\n",
    ");\n",
    "\n",
    "-- Insert sample records\n",
    "INSERT INTO customer VALUES\n",
    "(101, 'John Doe',   'john@example.com',  '9876543210', '4567-3453-5567-2302', 'North'),\n",
    "(102, 'Alice Smith','alice@example.com', '8765432109', '1234-5678-9012-3456', 'South'),\n",
    "(103, 'Mark Lee',   'mark@example.com',  '7654321098', '9999-8888-7777-6666', 'North'),\n",
    "(104, 'Lucy Ray',   'lucy@example.com',  '6543210987', '4321-4321-4321-4321', 'East');\n"
   ]
  },
  {
   "cell_type": "code",
   "execution_count": 0,
   "metadata": {
    "application/vnd.databricks.v1+cell": {
     "cellMetadata": {
      "byteLimit": 2048000,
      "rowLimit": 10000
     },
     "inputWidgets": {},
     "nuid": "0665ab35-7e82-4da2-9b34-31ad6edf142a",
     "showTitle": false,
     "tableResultSettingsMap": {},
     "title": ""
    }
   },
   "outputs": [],
   "source": [
    "SELECT * FROM customer where customer_email = 'john@example.com'"
   ]
  },
  {
   "cell_type": "code",
   "execution_count": 0,
   "metadata": {
    "application/vnd.databricks.v1+cell": {
     "cellMetadata": {
      "byteLimit": 2048000,
      "rowLimit": 10000
     },
     "inputWidgets": {},
     "nuid": "3ce0490e-1bb3-4d20-8870-31725a4a5527",
     "showTitle": false,
     "tableResultSettingsMap": {},
     "title": ""
    }
   },
   "outputs": [],
   "source": [
    "DESCRIBE EXTENDED customer"
   ]
  },
  {
   "cell_type": "markdown",
   "metadata": {
    "application/vnd.databricks.v1+cell": {
     "cellMetadata": {},
     "inputWidgets": {},
     "nuid": "fd02fb66-43c2-43b3-9141-73d2aa8aaf70",
     "showTitle": false,
     "tableResultSettingsMap": {},
     "title": ""
    }
   },
   "source": [
    "### Create Masking Policy for Credit Card"
   ]
  },
  {
   "cell_type": "code",
   "execution_count": 0,
   "metadata": {
    "application/vnd.databricks.v1+cell": {
     "cellMetadata": {
      "byteLimit": 2048000,
      "rowLimit": 10000
     },
     "inputWidgets": {},
     "nuid": "7adc708f-4adc-4661-bf51-aafbb1de3d29",
     "showTitle": false,
     "tableResultSettingsMap": {},
     "title": ""
    }
   },
   "outputs": [],
   "source": [
    "CREATE OR REPLACE FUNCTION credit_card_mask(ccn STRING)\n",
    "RETURN CASE\n",
    "  WHEN is_account_group_member('finance_team') THEN ccn\n",
    "  ELSE CONCAT('xxxx-xxxx-xxxx-', RIGHT(ccn, 4))\n",
    "END;"
   ]
  },
  {
   "cell_type": "markdown",
   "metadata": {
    "application/vnd.databricks.v1+cell": {
     "cellMetadata": {},
     "inputWidgets": {},
     "nuid": "71b91a48-f0d7-4aba-9546-6c77e10e99ec",
     "showTitle": false,
     "tableResultSettingsMap": {},
     "title": ""
    }
   },
   "source": [
    "### Alter the Table to Add Credit Card Column"
   ]
  },
  {
   "cell_type": "code",
   "execution_count": 0,
   "metadata": {
    "application/vnd.databricks.v1+cell": {
     "cellMetadata": {
      "byteLimit": 2048000,
      "rowLimit": 10000
     },
     "inputWidgets": {},
     "nuid": "07606ac5-9eeb-4447-8abc-9d35ace39fb0",
     "showTitle": false,
     "tableResultSettingsMap": {},
     "title": ""
    }
   },
   "outputs": [],
   "source": [
    "ALTER TABLE customer\n",
    "ALTER COLUMN credit_card\n",
    "SET MASK credit_card_mask;"
   ]
  },
  {
   "cell_type": "code",
   "execution_count": 0,
   "metadata": {
    "application/vnd.databricks.v1+cell": {
     "cellMetadata": {
      "byteLimit": 2048000,
      "rowLimit": 10000
     },
     "inputWidgets": {},
     "nuid": "c74c7eeb-89b8-4fe7-be11-d4de369c603b",
     "showTitle": false,
     "tableResultSettingsMap": {
      "0": {
       "dataGridStateBlob": "{\"version\":1,\"tableState\":{\"columnPinning\":{\"left\":[\"#row_number#\"],\"right\":[]},\"columnSizing\":{},\"columnVisibility\":{}},\"settings\":{\"columns\":{}},\"syncTimestamp\":1752165602747}",
       "filterBlob": null,
       "queryPlanFiltersBlob": null,
       "tableResultIndex": 0
      }
     },
     "title": ""
    }
   },
   "outputs": [],
   "source": [
    "SELECT customer_id, customer_name, credit_card FROM customer;"
   ]
  },
  {
   "cell_type": "markdown",
   "metadata": {
    "application/vnd.databricks.v1+cell": {
     "cellMetadata": {},
     "inputWidgets": {},
     "nuid": "ad8bbca7-0359-42cb-bc2d-48bd11f9c5b6",
     "showTitle": false,
     "tableResultSettingsMap": {},
     "title": ""
    }
   },
   "source": [
    "## Row Level Security"
   ]
  },
  {
   "cell_type": "markdown",
   "metadata": {
    "application/vnd.databricks.v1+cell": {
     "cellMetadata": {},
     "inputWidgets": {},
     "nuid": "d0088974-e7ff-47ad-967e-2e6f7fa805db",
     "showTitle": false,
     "tableResultSettingsMap": {},
     "title": ""
    }
   },
   "source": [
    "### Create a Row Filter Function"
   ]
  },
  {
   "cell_type": "code",
   "execution_count": 0,
   "metadata": {
    "application/vnd.databricks.v1+cell": {
     "cellMetadata": {
      "byteLimit": 2048000,
      "rowLimit": 10000
     },
     "inputWidgets": {},
     "nuid": "6f43ab5d-0c2a-4252-a07f-33d5c456c61c",
     "showTitle": false,
     "tableResultSettingsMap": {},
     "title": ""
    }
   },
   "outputs": [],
   "source": [
    "CREATE OR REPLACE FUNCTION region_filter(region STRING)\n",
    "RETURN is_account_group_member('regions') or is_account_group_member('admins');"
   ]
  },
  {
   "cell_type": "markdown",
   "metadata": {
    "application/vnd.databricks.v1+cell": {
     "cellMetadata": {},
     "inputWidgets": {},
     "nuid": "2b05dae2-1360-4583-9a45-85f15f35f5f6",
     "showTitle": false,
     "tableResultSettingsMap": {},
     "title": ""
    }
   },
   "source": [
    "### Create sample data"
   ]
  },
  {
   "cell_type": "code",
   "execution_count": 0,
   "metadata": {
    "application/vnd.databricks.v1+cell": {
     "cellMetadata": {
      "byteLimit": 2048000,
      "rowLimit": 10000
     },
     "inputWidgets": {},
     "nuid": "9e8025f0-a4ae-44f8-9944-6a47fb33667d",
     "showTitle": false,
     "tableResultSettingsMap": {},
     "title": ""
    }
   },
   "outputs": [],
   "source": [
    "CREATE OR REPLACE TABLE sales_data (\n",
    "  sale_id INT,\n",
    "  emp_name STRING,\n",
    "  region STRING,\n",
    "  product STRING,\n",
    "  quantity INT,\n",
    "  amount DOUBLE\n",
    ")\n",
    "WITH ROW FILTER region_filter ON (region);\n",
    "\n",
    "INSERT INTO sales_data VALUES\n",
    "(1, 'Jones',    'North', 'Laptop',   2, 2000.0),\n",
    "(2, 'Smith',    'South', 'Phone',    1,  800.0),\n",
    "(3, 'Alice',    'East',  'Tablet',   3, 1500.0),\n",
    "(4, 'Bob',      'West',  'Monitor',  2,  600.0),\n",
    "(5, 'Charlie',  'North', 'Printer',  1,  300.0),\n",
    "(6, 'Diana',    'South', 'Mouse',    4,  200.0),\n",
    "(7, 'Eve',      'East',  'Laptop',   1, 1000.0),\n",
    "(8, 'Frank',    'West',  'Phone',    2, 1600.0),\n",
    "(9, 'Grace',    'North', 'Tablet',   2, 1200.0),\n",
    "(10,'Hank',     'South', 'Keyboard', 3,  450.0);"
   ]
  },
  {
   "cell_type": "code",
   "execution_count": 0,
   "metadata": {
    "application/vnd.databricks.v1+cell": {
     "cellMetadata": {
      "byteLimit": 2048000,
      "rowLimit": 10000
     },
     "inputWidgets": {},
     "nuid": "c163c3de-2083-4526-b4ff-8e1951e55f4b",
     "showTitle": false,
     "tableResultSettingsMap": {},
     "title": ""
    }
   },
   "outputs": [],
   "source": [
    "SELECT * FROM sales_data;"
   ]
  },
  {
   "cell_type": "markdown",
   "metadata": {
    "application/vnd.databricks.v1+cell": {
     "cellMetadata": {},
     "inputWidgets": {},
     "nuid": "f1ebf789-a8fe-4d5a-9c29-252d1ded6851",
     "showTitle": false,
     "tableResultSettingsMap": {},
     "title": ""
    }
   },
   "source": [
    "### Create a Dynamic Region Filter Function"
   ]
  },
  {
   "cell_type": "code",
   "execution_count": 0,
   "metadata": {
    "application/vnd.databricks.v1+cell": {
     "cellMetadata": {
      "byteLimit": 2048000,
      "rowLimit": 10000
     },
     "inputWidgets": {},
     "nuid": "3fdd3dc4-9006-4027-94b4-4376dd4cd7ce",
     "showTitle": false,
     "tableResultSettingsMap": {},
     "title": ""
    }
   },
   "outputs": [],
   "source": [
    "CREATE OR REPLACE FUNCTION dynamic_region_rls(region STRING)\n",
    "RETURN is_account_group_member(CONCAT(lower(region), '_analyst'));"
   ]
  },
  {
   "cell_type": "code",
   "execution_count": 0,
   "metadata": {
    "application/vnd.databricks.v1+cell": {
     "cellMetadata": {
      "byteLimit": 2048000,
      "rowLimit": 10000
     },
     "inputWidgets": {},
     "nuid": "1bb1b2c5-8bc2-4405-adc6-df2ebe559c7f",
     "showTitle": false,
     "tableResultSettingsMap": {},
     "title": ""
    }
   },
   "outputs": [],
   "source": [
    "select CONCAT(lower('North'), '_analyst')"
   ]
  },
  {
   "cell_type": "code",
   "execution_count": 0,
   "metadata": {
    "application/vnd.databricks.v1+cell": {
     "cellMetadata": {
      "byteLimit": 2048000,
      "rowLimit": 10000
     },
     "inputWidgets": {},
     "nuid": "35b74a41-b1d7-4c0c-8d8b-7cf2f0d512ed",
     "showTitle": false,
     "tableResultSettingsMap": {
      "0": {
       "dataGridStateBlob": "{\"version\":1,\"tableState\":{\"columnPinning\":{\"left\":[\"#row_number#\"],\"right\":[]},\"columnSizing\":{\"current_user()\":411},\"columnVisibility\":{}},\"settings\":{\"columns\":{}},\"syncTimestamp\":1752210201214}",
       "filterBlob": null,
       "queryPlanFiltersBlob": null,
       "tableResultIndex": 0
      }
     },
     "title": ""
    }
   },
   "outputs": [],
   "source": [
    "SELECT current_user()"
   ]
  },
  {
   "cell_type": "markdown",
   "metadata": {
    "application/vnd.databricks.v1+cell": {
     "cellMetadata": {},
     "inputWidgets": {},
     "nuid": "dc3fb15c-aee1-4bbf-b31a-5afb566098f4",
     "showTitle": false,
     "tableResultSettingsMap": {},
     "title": ""
    }
   },
   "source": [
    "### Apply the Filter via ALTER TABLE"
   ]
  },
  {
   "cell_type": "code",
   "execution_count": 0,
   "metadata": {
    "application/vnd.databricks.v1+cell": {
     "cellMetadata": {
      "byteLimit": 2048000,
      "rowLimit": 10000
     },
     "inputWidgets": {},
     "nuid": "13b9026b-53fd-45c7-870c-9857883f5acb",
     "showTitle": false,
     "tableResultSettingsMap": {},
     "title": ""
    }
   },
   "outputs": [],
   "source": [
    "ALTER TABLE sales_data\n",
    "SET ROW FILTER dynamic_region_rls ON (region);"
   ]
  },
  {
   "cell_type": "code",
   "execution_count": 0,
   "metadata": {
    "application/vnd.databricks.v1+cell": {
     "cellMetadata": {
      "byteLimit": 2048000,
      "rowLimit": 10000
     },
     "inputWidgets": {},
     "nuid": "e40ecabb-0905-471f-a3ff-c0c68f0f0912",
     "showTitle": false,
     "tableResultSettingsMap": {},
     "title": ""
    }
   },
   "outputs": [],
   "source": [
    "SELECT * FROM sales_data;"
   ]
  },
  {
   "cell_type": "code",
   "execution_count": 0,
   "metadata": {
    "application/vnd.databricks.v1+cell": {
     "cellMetadata": {},
     "inputWidgets": {},
     "nuid": "ebdff725-f28d-4c20-8720-4f4374a3ead0",
     "showTitle": false,
     "tableResultSettingsMap": {},
     "title": ""
    }
   },
   "outputs": [],
   "source": [
    "-- Remove an Existing Row Filter (if needed)\n",
    "\n",
    "-- ALTER TABLE sales_data\n",
    "-- UNSET ROW FILTER;"
   ]
  },
  {
   "cell_type": "markdown",
   "metadata": {
    "application/vnd.databricks.v1+cell": {
     "cellMetadata": {},
     "inputWidgets": {},
     "nuid": "af6b5411-6c66-4855-ba09-d5cf0b9828a9",
     "showTitle": false,
     "tableResultSettingsMap": {},
     "title": ""
    }
   },
   "source": [
    "## Create a dynamic view"
   ]
  },
  {
   "cell_type": "code",
   "execution_count": 0,
   "metadata": {
    "application/vnd.databricks.v1+cell": {
     "cellMetadata": {
      "byteLimit": 2048000,
      "rowLimit": 10000
     },
     "inputWidgets": {},
     "nuid": "a4660675-753d-4496-90ca-9f18038de980",
     "showTitle": false,
     "tableResultSettingsMap": {},
     "title": ""
    }
   },
   "outputs": [],
   "source": [
    "CREATE OR REPLACE VIEW customer_redacted AS\n",
    "SELECT\n",
    "  customer_id,\n",
    "  CASE\n",
    "    WHEN is_account_group_member('auditors') THEN customer_email\n",
    "    ELSE 'REDACTED'\n",
    "  END AS customer_email,\n",
    "  customer_name,\n",
    "  region\n",
    "FROM customer;"
   ]
  },
  {
   "cell_type": "code",
   "execution_count": 0,
   "metadata": {
    "application/vnd.databricks.v1+cell": {
     "cellMetadata": {
      "byteLimit": 2048000,
      "rowLimit": 10000
     },
     "inputWidgets": {},
     "nuid": "9566feba-857d-4ae5-b027-7560a3337f72",
     "showTitle": false,
     "tableResultSettingsMap": {},
     "title": ""
    }
   },
   "outputs": [],
   "source": [
    "SELECT * FROM customer_redacted where customer_email = 'john@example.com'"
   ]
  },
  {
   "cell_type": "code",
   "execution_count": 0,
   "metadata": {
    "application/vnd.databricks.v1+cell": {
     "cellMetadata": {
      "byteLimit": 2048000,
      "rowLimit": 10000
     },
     "inputWidgets": {},
     "nuid": "11709aab-a120-4a26-9099-0b8b444dfd65",
     "showTitle": false,
     "tableResultSettingsMap": {},
     "title": ""
    }
   },
   "outputs": [],
   "source": [
    "CREATE OR REPLACE VIEW sales_redacted AS\n",
    "SELECT\n",
    "  emp_name,\n",
    "  region,\n",
    "  product,\n",
    "  amount\n",
    "FROM sales_data\n",
    "WHERE\n",
    "  is_account_group_member('managers') OR amount <= 1000;"
   ]
  },
  {
   "cell_type": "code",
   "execution_count": 0,
   "metadata": {
    "application/vnd.databricks.v1+cell": {
     "cellMetadata": {
      "byteLimit": 2048000,
      "rowLimit": 10000
     },
     "inputWidgets": {},
     "nuid": "515edcd1-8a08-4045-9447-51ee182a74a6",
     "showTitle": false,
     "tableResultSettingsMap": {},
     "title": ""
    }
   },
   "outputs": [],
   "source": [
    "SELECT * FROM sales_redacted"
   ]
  }
 ],
 "metadata": {
  "application/vnd.databricks.v1+notebook": {
   "computePreferences": null,
   "dashboards": [],
   "environmentMetadata": {
    "base_environment": "",
    "environment_version": "2"
   },
   "inputWidgetPreferences": null,
   "language": "sql",
   "notebookMetadata": {
    "pythonIndentUnit": 4
   },
   "notebookName": "RLS-CLS",
   "widgets": {}
  },
  "language_info": {
   "name": "sql"
  }
 },
 "nbformat": 4,
 "nbformat_minor": 0
}
