{
 "cells": [
  {
   "cell_type": "markdown",
   "metadata": {
    "application/vnd.databricks.v1+cell": {
     "cellMetadata": {},
     "inputWidgets": {},
     "nuid": "c5bedad4-aed1-43c6-8402-816c9a17d4cd",
     "showTitle": false,
     "tableResultSettingsMap": {},
     "title": ""
    }
   },
   "source": [
    "## Managing Data Security in the Hive Metastore\n",
    "\n",
    "In Databricks, the Hive metastore has traditionally been used to manage metadata and enforce data governance. It acts as a local metadata store for tables, columns, partitions, and schemas within each workspace. Though limited to a single catalog (hive_metastore), it supports data access control at multiple levels, playing a key role in maintaining data security."
   ]
  },
  {
   "cell_type": "markdown",
   "metadata": {
    "application/vnd.databricks.v1+cell": {
     "cellMetadata": {},
     "inputWidgets": {},
     "nuid": "1ba0eb41-db39-4ddb-a091-d7b27627125d",
     "showTitle": false,
     "tableResultSettingsMap": {},
     "title": ""
    }
   },
   "source": [
    "### Access Control in the Hive Metastore\n",
    "Data access is managed through SQL-based commands such as `GRANT`, `REVOKE`, and `DENY`, allowing administrators to define who can view, modify, or manage data objects.\n",
    "\n",
    "**Granting Permissions**\n",
    "\n",
    "- Use the GRANT statement to assign privileges on data objects:\n",
    "- `GRANT <privilege> ON <object-type> <object-name> TO <user>;`"
   ]
  },
  {
   "cell_type": "markdown",
   "metadata": {
    "application/vnd.databricks.v1+cell": {
     "cellMetadata": {},
     "inputWidgets": {},
     "nuid": "6b6125ab-7167-40be-a734-e95181992181",
     "showTitle": false,
     "tableResultSettingsMap": {},
     "title": ""
    }
   },
   "source": [
    "### Object Privileges\n",
    "| Privilege        | Description                                                      |\n",
    "| ---------------- | ---------------------------------------------------------------- |\n",
    "| `SELECT`         | Read/query data                                                  |\n",
    "| `MODIFY`         | Insert, update, and delete data                                  |\n",
    "| `CREATE`         | Create new objects (tables, views)                               |\n",
    "| `READ_METADATA`  | View object structure and metadata                               |\n",
    "| `USAGE`          | Required for using other privileges but has no effect on its own |\n",
    "| `ALL PRIVILEGES` | Grants all of the above in one command                           |\n",
    "\n",
    "<br>\n",
    "\n",
    "---\n",
    "\n",
    "### Types of Securable Objects\n",
    "Permissions can be applied at different levels:\n",
    "| Object Type | Scope Description                             |\n",
    "| ----------- | --------------------------------------------- |\n",
    "| CATALOG     | Access to the entire `hive_metastore` catalog |\n",
    "| SCHEMA      | Access to a specific database/schema          |\n",
    "| TABLE       | Access to managed or external tables          |\n",
    "| VIEW        | Access to SQL views                           |\n",
    "| FUNCTION    | Access to user-defined functions              |\n",
    "| ANY FILE    | Access to underlying file storage             |\n"
   ]
  },
  {
   "cell_type": "markdown",
   "metadata": {
    "application/vnd.databricks.v1+cell": {
     "cellMetadata": {},
     "inputWidgets": {},
     "nuid": "a49bbc00-6898-4136-840c-80b576220bbe",
     "showTitle": false,
     "tableResultSettingsMap": {},
     "title": ""
    }
   },
   "source": [
    "**Example:**\n",
    "\n",
    "```\n",
    "GRANT MODIFY ON TABLE product TO user1@example.com;\n",
    "GRANT CREATE ON SCHEMA retaildb TO user1@example.com;\n",
    "GRANT ALL PRIVILEGES ON SCHEMA retaildb TO user1@example.com;\n",
    "\n",
    "```"
   ]
  },
  {
   "cell_type": "markdown",
   "metadata": {
    "application/vnd.databricks.v1+cell": {
     "cellMetadata": {},
     "inputWidgets": {},
     "nuid": "0bc9d614-b713-4ec4-b3a8-4dd4fa971fe3",
     "showTitle": false,
     "tableResultSettingsMap": {},
     "title": ""
    }
   },
   "source": [
    "### Role-Based Access Control (RBAC)\n",
    "Privileges in the Hive Metastore are granted only by users with specific roles.\n",
    "| Role                         | Can Grant Access To                            |\n",
    "| ---------------------------- | ---------------------------------------------- |\n",
    "| **Databricks Administrator** | All objects in the catalog + file system       |\n",
    "| **Catalog Owner**            | All objects within the catalog                 |\n",
    "| **Database Owner**           | All objects within a specific schema           |\n",
    "| **Object Owner**             | Only the object (table/view/function) they own |\n"
   ]
  },
  {
   "cell_type": "markdown",
   "metadata": {
    "application/vnd.databricks.v1+cell": {
     "cellMetadata": {},
     "inputWidgets": {},
     "nuid": "010dc65f-fe1f-436a-879d-475dbf3f48c5",
     "showTitle": false,
     "tableResultSettingsMap": {},
     "title": ""
    }
   },
   "source": [
    "### Understanding the Hierarchy\n",
    "1. **Catalog** (`hive_metastore`)\n",
    "    - The root of the object tree. Only one catalog exists in the Hive metastore.\n",
    "1. **Schema (Database)**\n",
    "    - Logical grouping of objects like tables, views, and functions.\n",
    "1. **Tables / Views / Functions**\n",
    "    - Objects inside schemas where privileges can be assigned individually."
   ]
  },
  {
   "cell_type": "markdown",
   "metadata": {
    "application/vnd.databricks.v1+cell": {
     "cellMetadata": {},
     "inputWidgets": {},
     "nuid": "85501df6-d309-4fad-9a87-0ded3f961795",
     "showTitle": false,
     "tableResultSettingsMap": {},
     "title": ""
    }
   },
   "source": [
    "### Advanced Privilege Management\n",
    "**🔓 REVOKE**\n",
    "\n",
    "- Removes a previously granted privilege:\n",
    "- `REVOKE <privilege> ON <object-type> <object-name> FROM <user>`\n",
    "\n",
    "**🚫 DENY**\n",
    "- Explicitly blocks access regardless of other privileges:\n",
    "- `DENY <privilege> ON <object-type> <object-name> TO <user>`\n",
    "\n",
    "📋 SHOW GRANTS\n",
    "- Displays all privileges assigned on an object:\n",
    "- `SHOW GRANTS ON <object-type> <object-name>`\n"
   ]
  },
  {
   "cell_type": "code",
   "execution_count": 0,
   "metadata": {
    "application/vnd.databricks.v1+cell": {
     "cellMetadata": {
      "byteLimit": 2048000,
      "rowLimit": 10000
     },
     "inputWidgets": {},
     "nuid": "f11cbaeb-346b-417b-9424-0d6dc59cf9d5",
     "showTitle": false,
     "tableResultSettingsMap": {},
     "title": ""
    }
   },
   "outputs": [],
   "source": [
    "-- Create the retail_db database if it does not exist\n",
    "DROP DATABASE IF EXISTS hive_metastore.retail_db CASCADE;\n",
    "CREATE DATABASE IF NOT EXISTS hive_metastore.retail_db\n",
    "LOCATION 'dbfs:/tmp/db/retail_db.db';"
   ]
  },
  {
   "cell_type": "code",
   "execution_count": 0,
   "metadata": {
    "application/vnd.databricks.v1+cell": {
     "cellMetadata": {
      "byteLimit": 2048000,
      "rowLimit": 10000
     },
     "inputWidgets": {},
     "nuid": "91a56724-3e55-4c59-8027-ea3454d7b409",
     "showTitle": false,
     "tableResultSettingsMap": {},
     "title": ""
    }
   },
   "outputs": [],
   "source": [
    "-- Create the products table in the retail_db database\n",
    "CREATE TABLE hive_metastore.retail_db.products\n",
    "(product_id INT, product_name STRING, price DOUBLE, category STRING);\n",
    "\n",
    "-- Insert sample data into the products table\n",
    "INSERT INTO hive_metastore.retail_db.products\n",
    "VALUES (101, \"Laptop\", 850.00, \"Electronics\"),\n",
    "       (102, \"Smartphone\", 650.00, \"Electronics\"),\n",
    "       (103, \"Coffee Maker\", 120.00, \"Appliances\"),\n",
    "       (104, \"Air Fryer\", 140.00, \"Appliances\"),\n",
    "       (105, \"Desk Lamp\", 45.00, \"Furniture\"),\n",
    "       (106, \"Office Chair\", 210.00, \"Furniture\"),\n",
    "       (107, \"Tablet\", 430.00, \"Electronics\");"
   ]
  },
  {
   "cell_type": "code",
   "execution_count": 0,
   "metadata": {
    "application/vnd.databricks.v1+cell": {
     "cellMetadata": {
      "byteLimit": 2048000,
      "rowLimit": 10000
     },
     "inputWidgets": {},
     "nuid": "ee08d919-d737-4bf8-a62b-d598a2fd2f9d",
     "showTitle": false,
     "tableResultSettingsMap": {},
     "title": ""
    }
   },
   "outputs": [],
   "source": [
    "-- Create a view to display only electronics products\n",
    "CREATE VIEW hive_metastore.retail_db.electronics_products_vw\n",
    "AS SELECT * FROM hive_metastore.retail_db.products WHERE category = 'Electronics';"
   ]
  },
  {
   "cell_type": "code",
   "execution_count": 0,
   "metadata": {
    "application/vnd.databricks.v1+cell": {
     "cellMetadata": {
      "byteLimit": 2048000,
      "rowLimit": 10000
     },
     "inputWidgets": {},
     "nuid": "3391210b-6589-44ec-8801-a47208132839",
     "showTitle": false,
     "tableResultSettingsMap": {},
     "title": ""
    }
   },
   "outputs": [],
   "source": [
    "-- Granting SELECT, MODIFY, READ_METADATA, and CREATE privileges on the schema to the retail_analysts group\n",
    "GRANT SELECT, MODIFY, READ_METADATA, CREATE\n",
    "ON SCHEMA hive_metastore.retail_db TO retail_analysts;"
   ]
  },
  {
   "cell_type": "code",
   "execution_count": 0,
   "metadata": {
    "application/vnd.databricks.v1+cell": {
     "cellMetadata": {
      "byteLimit": 2048000,
      "rowLimit": 10000
     },
     "inputWidgets": {},
     "nuid": "14c8bc0e-97fe-465b-98a1-787bfe335254",
     "showTitle": false,
     "tableResultSettingsMap": {},
     "title": ""
    }
   },
   "outputs": [],
   "source": [
    "SHOW GRANTS ON SCHEMA hive_metastore.retail_db"
   ]
  },
  {
   "cell_type": "code",
   "execution_count": 0,
   "metadata": {
    "application/vnd.databricks.v1+cell": {
     "cellMetadata": {
      "byteLimit": 2048000,
      "rowLimit": 10000
     },
     "inputWidgets": {},
     "nuid": "09fbc532-51f8-41d0-94c1-7e209771fc44",
     "showTitle": false,
     "tableResultSettingsMap": {},
     "title": ""
    }
   },
   "outputs": [],
   "source": [
    "-- users must have the USAGE privilege to perform any action on database objects\n",
    "-- Granting USAGE privilege on the schema to the retail_analysts group\n",
    "GRANT USAGE ON SCHEMA hive_metastore.retail_db TO retail_analysts;"
   ]
  },
  {
   "cell_type": "code",
   "execution_count": 0,
   "metadata": {
    "application/vnd.databricks.v1+cell": {
     "cellMetadata": {
      "byteLimit": 2048000,
      "rowLimit": 10000
     },
     "inputWidgets": {},
     "nuid": "555a6d3e-9cb9-45da-8c95-50198a89e988",
     "showTitle": false,
     "tableResultSettingsMap": {},
     "title": ""
    }
   },
   "outputs": [],
   "source": [
    "-- Granting SELECT privilege on the view to the user\n",
    "GRANT SELECT\n",
    "ON VIEW hive_metastore.retail_db.electronics_products_vw TO `user2@pankajacksgmail.onmicrosoft.com`;"
   ]
  },
  {
   "cell_type": "code",
   "execution_count": 0,
   "metadata": {
    "application/vnd.databricks.v1+cell": {
     "cellMetadata": {
      "byteLimit": 2048000,
      "rowLimit": 10000
     },
     "inputWidgets": {},
     "nuid": "3d78d8d5-d31c-4e6b-b716-cc77c2c8dada",
     "showTitle": false,
     "tableResultSettingsMap": {},
     "title": ""
    }
   },
   "outputs": [],
   "source": [
    "-- Reviewing assigned permissions on the view\n",
    "SHOW GRANTS ON VIEW hive_metastore.retail_db.electronics_products_vw;"
   ]
  },
  {
   "cell_type": "code",
   "execution_count": 0,
   "metadata": {
    "application/vnd.databricks.v1+cell": {
     "cellMetadata": {
      "byteLimit": 2048000,
      "rowLimit": 10000
     },
     "inputWidgets": {},
     "nuid": "2e949d3b-f539-4018-84f4-ddb023aba6b9",
     "showTitle": false,
     "tableResultSettingsMap": {},
     "title": ""
    }
   },
   "outputs": [],
   "source": [
    "-- Denying SELECT and MODIFY privileges on the table to the user\n",
    "DENY SELECT, MODIFY ON \n",
    "TABLE hive_metastore.retail_db.products \n",
    "TO `user1@pankajacksgmail.onmicrosoft.com`;"
   ]
  },
  {
   "cell_type": "code",
   "execution_count": 0,
   "metadata": {
    "application/vnd.databricks.v1+cell": {
     "cellMetadata": {},
     "inputWidgets": {},
     "nuid": "c5670b44-0abd-415c-8aa3-1b4ca13f0f2d",
     "showTitle": false,
     "tableResultSettingsMap": {},
     "title": ""
    }
   },
   "outputs": [],
   "source": [
    "-- Revoking SELECT and MODIFY privileges on the table from the user\n",
    "REVOKE SELECT, MODIFY ON \n",
    "TABLE hive_metastore.retail_db.products \n",
    "FROM `user1@pankajacksgmail.onmicrosoft.com`;"
   ]
  }
 ],
 "metadata": {
  "application/vnd.databricks.v1+notebook": {
   "computePreferences": null,
   "dashboards": [],
   "environmentMetadata": {
    "base_environment": "",
    "environment_version": "2"
   },
   "inputWidgetPreferences": null,
   "language": "sql",
   "notebookMetadata": {
    "pythonIndentUnit": 4
   },
   "notebookName": "Hive-Metastore-Security",
   "widgets": {}
  },
  "language_info": {
   "name": "sql"
  }
 },
 "nbformat": 4,
 "nbformat_minor": 0
}
