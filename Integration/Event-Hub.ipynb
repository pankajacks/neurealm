{
 "cells": [
  {
   "cell_type": "code",
   "execution_count": 0,
   "metadata": {
    "application/vnd.databricks.v1+cell": {
     "cellMetadata": {
      "byteLimit": 2048000,
      "rowLimit": 10000
     },
     "inputWidgets": {},
     "nuid": "350f3135-f346-4f77-8190-13273acebe41",
     "showTitle": false,
     "tableResultSettingsMap": {},
     "title": ""
    }
   },
   "outputs": [],
   "source": [
    "from pyspark.sql.functions import *\n",
    "from pyspark.sql.types import *\n",
    "\n",
    "# Event Hub details\n",
    "EH_CONN_STR = \"\"\n",
    "EH_NAMESPACE = \"eventhubgq7cwd0\"\n",
    "\n",
    "\n",
    "ehConf = {\n",
    "  'eventhubs.connectionString' : sc._jvm.org.apache.spark.eventhubs.EventHubsUtils.encrypt(EH_CONN_STR),\n",
    "  'eventhubs.eventHubName': EH_NAMESPACE\n",
    "}"
   ]
  },
  {
   "cell_type": "code",
   "execution_count": 0,
   "metadata": {
    "application/vnd.databricks.v1+cell": {
     "cellMetadata": {
      "byteLimit": 2048000,
      "implicitDf": true,
      "rowLimit": 10000
     },
     "inputWidgets": {},
     "nuid": "fbad603e-5841-41aa-8a14-5e72f630b4dc",
     "showTitle": false,
     "tableResultSettingsMap": {},
     "title": ""
    }
   },
   "outputs": [],
   "source": [
    "%sql\n",
    "USE CATALOG sales_catalog;\n",
    "DROP SCHEMA IF EXISTS sales_catalog.bronze CASCADE;\n",
    "DROP SCHEMA IF EXISTS sales_catalog.silver CASCADE;\n",
    "DROP SCHEMA IF EXISTS sales_catalog.gold CASCADE;\n",
    "CREATE SCHEMA IF NOT EXISTS sales_catalog.bronze;\n",
    "CREATE SCHEMA IF NOT EXISTS sales_catalog.silver;\n",
    "CREATE SCHEMA IF NOT EXISTS sales_catalog.gold;"
   ]
  },
  {
   "cell_type": "code",
   "execution_count": 0,
   "metadata": {
    "application/vnd.databricks.v1+cell": {
     "cellMetadata": {
      "byteLimit": 2048000,
      "rowLimit": 10000
     },
     "inputWidgets": {},
     "nuid": "3613bedc-8c3f-4fb9-8d1b-5a4c5f19f26f",
     "showTitle": false,
     "tableResultSettingsMap": {},
     "title": ""
    }
   },
   "outputs": [],
   "source": [
    "df = spark.readStream \\\n",
    "    .format(\"eventhubs\") \\\n",
    "    .options(**ehConf) \\\n",
    "    .load() \\\n",
    "\n",
    "# Displaying stream: Show the incoming streaming data for visualization and debugging purposes\n",
    "# df.display()\n",
    "\n",
    "# Writing stream: Persist the streaming data to a Delta table 'streaming.bronze.order' in 'append' mode with checkpointing\n",
    "df.writeStream\\\n",
    "    .option(\"checkpointLocation\", \"/tmp/streaming/bronze\")\\\n",
    "    .outputMode(\"append\")\\\n",
    "    .format(\"delta\")\\\n",
    "    .toTable(\"sales_catalog.bronze.order\")"
   ]
  },
  {
   "cell_type": "code",
   "execution_count": 0,
   "metadata": {
    "application/vnd.databricks.v1+cell": {
     "cellMetadata": {
      "byteLimit": 2048000,
      "implicitDf": true,
      "rowLimit": 10000
     },
     "inputWidgets": {},
     "nuid": "137e211c-947b-4644-b332-0dfe53b2444c",
     "showTitle": false,
     "tableResultSettingsMap": {},
     "title": ""
    }
   },
   "outputs": [],
   "source": [
    "%sql\n",
    "\n",
    "SELECT * from sales_catalog.bronze.order"
   ]
  },
  {
   "cell_type": "code",
   "execution_count": 0,
   "metadata": {
    "application/vnd.databricks.v1+cell": {
     "cellMetadata": {
      "byteLimit": 2048000,
      "rowLimit": 10000
     },
     "inputWidgets": {},
     "nuid": "66c322fb-8cd7-4e1e-b5d5-db8a9d430f4f",
     "showTitle": false,
     "tableResultSettingsMap": {},
     "title": ""
    }
   },
   "outputs": [],
   "source": [
    "schema = StructType([\n",
    "    StructField(\"ProductID\", StringType(), True),\n",
    "    StructField(\"Quantity\", IntegerType(), True)\n",
    "])"
   ]
  },
  {
   "cell_type": "code",
   "execution_count": 0,
   "metadata": {
    "application/vnd.databricks.v1+cell": {
     "cellMetadata": {
      "byteLimit": 2048000,
      "rowLimit": 10000
     },
     "inputWidgets": {},
     "nuid": "618c3024-c2bf-4674-b944-a4930410a450",
     "showTitle": false,
     "tableResultSettingsMap": {},
     "title": ""
    }
   },
   "outputs": [],
   "source": [
    "df = (spark.readStream\n",
    "      .format(\"delta\")\n",
    "      .table(\"sales_catalog.bronze.order\")\n",
    "      .withColumn(\"body\", col(\"body\").cast(\"string\"))\n",
    "      .withColumn(\"body\",from_json(col(\"body\"), schema))\n",
    "      .select(\"body.ProductID\", \"body.Quantity\", col(\"enqueuedTime\").alias('timestamp')))"
   ]
  },
  {
   "cell_type": "code",
   "execution_count": 0,
   "metadata": {
    "application/vnd.databricks.v1+cell": {
     "cellMetadata": {
      "byteLimit": 2048000,
      "rowLimit": 10000
     },
     "inputWidgets": {},
     "nuid": "33750569-420a-48ef-8036-32d03a43f480",
     "showTitle": false,
     "tableResultSettingsMap": {},
     "title": ""
    }
   },
   "outputs": [],
   "source": [
    "# Displaying stream: Visualize the transformed data in the DataFrame for verification and analysis\n",
    "df.display()\n",
    "\n",
    "# Writing stream: Save the transformed data to the 'streaming.silver.order' Delta table in 'append' mode with checkpointing for data reliability\n",
    "df.writeStream\\\n",
    "    .option(\"checkpointLocation\", \"/tmp/streaming/silver\")\\\n",
    "    .outputMode(\"append\")\\\n",
    "    .format(\"delta\")\\\n",
    "    .toTable(\"sales_catalog.silver.order\")"
   ]
  },
  {
   "cell_type": "code",
   "execution_count": 0,
   "metadata": {
    "application/vnd.databricks.v1+cell": {
     "cellMetadata": {
      "byteLimit": 2048000,
      "rowLimit": 10000
     },
     "inputWidgets": {},
     "nuid": "2daefaff-f85b-46a2-938c-aebd31a2d330",
     "showTitle": false,
     "tableResultSettingsMap": {},
     "title": ""
    }
   },
   "outputs": [],
   "source": [
    "from pyspark.sql.functions import window, col, sum\n",
    "\n",
    "# Read the silver table\n",
    "df_silver = spark.readStream.table(\"sales_catalog.silver.order\")\n",
    "\n",
    "# Perform the aggregation\n",
    "df_gold = df_silver \\\n",
    "    .groupBy(\n",
    "        window(col(\"timestamp\"), \"5 seconds\").alias(\"window\"),\n",
    "        col(\"ProductID\")\n",
    "    ) \\\n",
    "    .agg(\n",
    "        sum(\"Quantity\").alias(\"Orders\")\n",
    "    ) \\\n",
    "    .filter(\"count(*) > 1\") \\\n",
    "    .select(\n",
    "        col(\"window.start\").alias(\"StartTime\"),\n",
    "        col(\"window.end\").alias(\"EndTime\"),\n",
    "        col(\"ProductID\"),\n",
    "        col(\"Orders\")\n",
    "    )\n",
    "\n",
    "# Write the result to the gold table\n",
    "df_gold.writeStream \\\n",
    "    .option(\"checkpointLocation\", \"/tmp/streaming/gold2\") \\\n",
    "    .outputMode(\"complete\") \\\n",
    "    .format(\"delta\") \\\n",
    "    .toTable(\"sales_catalog.gold.order\")"
   ]
  },
  {
   "cell_type": "code",
   "execution_count": 0,
   "metadata": {
    "application/vnd.databricks.v1+cell": {
     "cellMetadata": {
      "byteLimit": 2048000,
      "rowLimit": 10000
     },
     "inputWidgets": {},
     "nuid": "94b3adb0-2c7b-4e01-9584-6689bdefd3b3",
     "showTitle": false,
     "tableResultSettingsMap": {},
     "title": ""
    }
   },
   "outputs": [],
   "source": [
    "display(df_gold)"
   ]
  },
  {
   "cell_type": "code",
   "execution_count": 0,
   "metadata": {
    "application/vnd.databricks.v1+cell": {
     "cellMetadata": {
      "byteLimit": 2048000,
      "implicitDf": true,
      "rowLimit": 10000
     },
     "inputWidgets": {},
     "nuid": "67a4c0bd-52ed-4956-85ec-5742b46a3365",
     "showTitle": false,
     "tableResultSettingsMap": {},
     "title": ""
    }
   },
   "outputs": [],
   "source": [
    "%sql\n",
    "SELECT * FROM sales_catalog.gold.order;"
   ]
  }
 ],
 "metadata": {
  "application/vnd.databricks.v1+notebook": {
   "computePreferences": null,
   "dashboards": [],
   "environmentMetadata": {
    "base_environment": "",
    "environment_version": "2"
   },
   "inputWidgetPreferences": null,
   "language": "python",
   "notebookMetadata": {
    "mostRecentlyExecutedCommandWithImplicitDF": {
     "commandId": 8388391733530121,
     "dataframes": [
      "_sqldf"
     ]
    },
    "pythonIndentUnit": 4
   },
   "notebookName": "Event-Hub",
   "widgets": {}
  },
  "language_info": {
   "name": "python"
  }
 },
 "nbformat": 4,
 "nbformat_minor": 0
}
