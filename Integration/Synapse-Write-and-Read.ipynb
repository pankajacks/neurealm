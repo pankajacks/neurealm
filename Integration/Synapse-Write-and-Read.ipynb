{
 "cells": [
  {
   "cell_type": "markdown",
   "metadata": {
    "application/vnd.databricks.v1+cell": {
     "cellMetadata": {},
     "inputWidgets": {},
     "nuid": "eedb9312-4caf-4757-8d1c-b60d380c48c5",
     "showTitle": false,
     "tableResultSettingsMap": {},
     "title": ""
    }
   },
   "source": [
    "## Read and write data to/from Azure Synapse Dedicated SQL Pool."
   ]
  },
  {
   "cell_type": "markdown",
   "metadata": {
    "application/vnd.databricks.v1+cell": {
     "cellMetadata": {},
     "inputWidgets": {},
     "nuid": "4f5736ab-4b5d-42d3-8d01-2973e5083a89",
     "showTitle": false,
     "tableResultSettingsMap": {},
     "title": ""
    }
   },
   "source": [
    "### Write some data"
   ]
  },
  {
   "cell_type": "code",
   "execution_count": 0,
   "metadata": {
    "application/vnd.databricks.v1+cell": {
     "cellMetadata": {
      "byteLimit": 2048000,
      "rowLimit": 10000
     },
     "inputWidgets": {},
     "nuid": "059babc2-326d-434b-ab5f-9387e047ebbc",
     "showTitle": false,
     "tableResultSettingsMap": {},
     "title": ""
    }
   },
   "outputs": [],
   "source": [
    "from pyspark.sql import Row\n",
    "\n",
    "data = [\n",
    "    Row(transaction_id=1, customer_id=101, product_id=1001, quantity=2, price=20.0, transaction_date=\"2025-07-01\"),\n",
    "    Row(transaction_id=2, customer_id=102, product_id=1002, quantity=1, price=15.0, transaction_date=\"2025-07-02\"),\n",
    "    Row(transaction_id=3, customer_id=103, product_id=1003, quantity=3, price=30.0, transaction_date=\"2025-07-03\"),\n",
    "    Row(transaction_id=4, customer_id=104, product_id=1004, quantity=4, price=25.0, transaction_date=\"2025-07-04\"),\n",
    "    Row(transaction_id=5, customer_id=105, product_id=1005, quantity=2, price=10.0, transaction_date=\"2025-07-05\"),\n",
    "    Row(transaction_id=6, customer_id=106, product_id=1006, quantity=1, price=50.0, transaction_date=\"2025-07-06\"),\n",
    "    Row(transaction_id=7, customer_id=107, product_id=1007, quantity=5, price=40.0, transaction_date=\"2025-07-07\"),\n",
    "    Row(transaction_id=8, customer_id=108, product_id=1008, quantity=2, price=35.0, transaction_date=\"2025-07-08\"),\n",
    "    Row(transaction_id=9, customer_id=109, product_id=1009, quantity=3, price=45.0, transaction_date=\"2025-07-09\"),\n",
    "    Row(transaction_id=10, customer_id=110, product_id=1010, quantity=4, price=55.0, transaction_date=\"2025-07-10\")\n",
    "]\n",
    "\n",
    "df = spark.createDataFrame(data)\n",
    "display(df)"
   ]
  },
  {
   "cell_type": "code",
   "execution_count": 0,
   "metadata": {
    "application/vnd.databricks.v1+cell": {
     "cellMetadata": {
      "byteLimit": 2048000,
      "rowLimit": 10000
     },
     "inputWidgets": {},
     "nuid": "90e2737d-d11c-4a1b-b662-733c25a1925c",
     "showTitle": false,
     "tableResultSettingsMap": {},
     "title": ""
    }
   },
   "outputs": [],
   "source": [
    "%run ../PySpark/DatasetSourcePath"
   ]
  },
  {
   "cell_type": "code",
   "execution_count": 0,
   "metadata": {
    "application/vnd.databricks.v1+cell": {
     "cellMetadata": {
      "byteLimit": 2048000,
      "rowLimit": 10000
     },
     "inputWidgets": {},
     "nuid": "1ca316b1-ce03-467a-98a7-f2d48fd321d1",
     "showTitle": false,
     "tableResultSettingsMap": {},
     "title": ""
    }
   },
   "outputs": [],
   "source": [
    "jdbcUrl = \"\"\n",
    "\n",
    "tempPath = sourcePath + \"/temp/sales_order\"\n",
    "\n",
    "(df.write\n",
    "  .mode(\"overwrite\")\n",
    "  .format(\"com.databricks.spark.sqldw\")\n",
    "  .option(\"url\", jdbcUrl)\n",
    "  .option(\"forwardSparkAzureStorageCredentials\", \"true\")\n",
    "  .option(\"dbTable\", \"sales_order\")\n",
    "  .option(\"tempDir\", tempPath)\n",
    "  .save())"
   ]
  },
  {
   "cell_type": "markdown",
   "metadata": {
    "application/vnd.databricks.v1+cell": {
     "cellMetadata": {},
     "inputWidgets": {},
     "nuid": "0f444c49-867e-4709-9b97-d5f93eb11ef2",
     "showTitle": false,
     "tableResultSettingsMap": {},
     "title": ""
    }
   },
   "source": [
    "### Read Data"
   ]
  },
  {
   "cell_type": "code",
   "execution_count": 0,
   "metadata": {
    "application/vnd.databricks.v1+cell": {
     "cellMetadata": {
      "byteLimit": 2048000,
      "rowLimit": 10000
     },
     "inputWidgets": {},
     "nuid": "c2423bbc-0ce6-4555-868a-5e000fc625eb",
     "showTitle": false,
     "tableResultSettingsMap": {},
     "title": ""
    }
   },
   "outputs": [],
   "source": [
    "df = (spark.read\n",
    "  .format(\"com.databricks.spark.sqldw\")\n",
    "  .option(\"url\", jdbcUrl)\n",
    "  .option(\"tempDir\", tempPath)\n",
    "  .option(\"forwardSparkAzureStorageCredentials\", \"true\")\n",
    "  # .option(\"dbTable\", \"sales_order\")\n",
    "  .option(\"query\", \"SELECT * FROM dbo.sales_order where price > 30\")\n",
    "  .load())"
   ]
  },
  {
   "cell_type": "code",
   "execution_count": 0,
   "metadata": {
    "application/vnd.databricks.v1+cell": {
     "cellMetadata": {
      "byteLimit": 2048000,
      "rowLimit": 10000
     },
     "inputWidgets": {},
     "nuid": "f676453c-d731-43e5-b7fc-42de8184d195",
     "showTitle": false,
     "tableResultSettingsMap": {},
     "title": ""
    }
   },
   "outputs": [],
   "source": [
    "df.show()"
   ]
  }
 ],
 "metadata": {
  "application/vnd.databricks.v1+notebook": {
   "computePreferences": null,
   "dashboards": [],
   "environmentMetadata": {
    "base_environment": "",
    "environment_version": "2"
   },
   "inputWidgetPreferences": null,
   "language": "python",
   "notebookMetadata": {
    "pythonIndentUnit": 4
   },
   "notebookName": "Synapse-Write-and-Read",
   "widgets": {}
  },
  "language_info": {
   "name": "python"
  }
 },
 "nbformat": 4,
 "nbformat_minor": 0
}
