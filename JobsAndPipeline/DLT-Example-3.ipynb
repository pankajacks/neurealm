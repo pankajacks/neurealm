{
 "cells": [
  {
   "cell_type": "markdown",
   "metadata": {
    "application/vnd.databricks.v1+cell": {
     "cellMetadata": {
      "byteLimit": 2048000,
      "rowLimit": 10000
     },
     "inputWidgets": {},
     "nuid": "6826b82d-be40-4da5-936a-8b7d73c067ce",
     "showTitle": false,
     "tableResultSettingsMap": {},
     "title": ""
    }
   },
   "source": [
    "### Delta Live Tables Using SQL"
   ]
  },
  {
   "cell_type": "markdown",
   "metadata": {
    "application/vnd.databricks.v1+cell": {
     "cellMetadata": {},
     "inputWidgets": {},
     "nuid": "2be5e669-5ec5-4291-848f-c109c3e46807",
     "showTitle": false,
     "tableResultSettingsMap": {},
     "title": ""
    }
   },
   "source": [
    "> #### Note: Use `Sales-Data-Generator` notebook to add the data and query the result\n",
    "- Observe the code in this notebook\n",
    "- Open the notebook and run **cell number 1 to 7** only.\n",
    "- Create a DLT pipeline and provide the following in formation:\n",
    "  - Pipeline name: `<Enter unique name>`\n",
    "  - Product edition: **Advance**\n",
    "  - Pipeline mode: **Conitnues**\n",
    "  - Paths: `<Navigate to this notebook and select it>`.\n",
    "  - Storage option: **hive_metastore**\n",
    "  - Storage location: `<your-mount-point-name/tables>`\n",
    "  - Default schema: **dltdb**\n",
    "  - Cluster mode: **Fixed size**\n",
    "  - Workers: **0**\n",
    "  - Advance Configuration:\n",
    "    - Key: **path**\n",
    "    - Value: `dbfs:/<your-mount-point-name/sales_order>`\n",
    "  - Driver type: **Ds3v2**\n",
    "  - Click Create\n",
    "  - On the DLT pipeline page, click Start.\n",
    "  - Once Started, go back to `Sales-Data-Generator` and run cell no 8 to view the output.\n",
    "  - Now run cell no 7 again to load more and run cell 8 again."
   ]
  },
  {
   "cell_type": "markdown",
   "metadata": {
    "application/vnd.databricks.v1+cell": {
     "cellMetadata": {
      "byteLimit": 2048000,
      "rowLimit": 10000
     },
     "inputWidgets": {},
     "nuid": "6f321c2d-ca24-402f-bb70-cd02168a830b",
     "showTitle": false,
     "tableResultSettingsMap": {},
     "title": ""
    }
   },
   "source": [
    "### Create Bronze Layer with Auto Loader"
   ]
  },
  {
   "cell_type": "code",
   "execution_count": 0,
   "metadata": {
    "application/vnd.databricks.v1+cell": {
     "cellMetadata": {
      "byteLimit": 2048000,
      "rowLimit": 10000
     },
     "inputWidgets": {},
     "nuid": "95800542-239d-4e74-a754-d4d7cca531b0",
     "showTitle": false,
     "tableResultSettingsMap": {},
     "title": ""
    }
   },
   "outputs": [],
   "source": [
    "CREATE OR REFRESH STREAMING TABLE bronze_sales (\n",
    "  CONSTRAINT positive_quantity EXPECT (quantity > 0) ON VIOLATION DROP ROW\n",
    ")\n",
    "AS\n",
    "SELECT * FROM cloud_files(\n",
    "  \"${path}\",\n",
    "  \"json\",\n",
    "  map(\n",
    "    \"cloudFiles.inferColumnTypes\", \"true\"\n",
    "  )\n",
    ");"
   ]
  },
  {
   "cell_type": "markdown",
   "metadata": {
    "application/vnd.databricks.v1+cell": {
     "cellMetadata": {
      "byteLimit": 2048000,
      "rowLimit": 10000
     },
     "inputWidgets": {},
     "nuid": "a372c7ed-6407-4557-9066-4d1043660e5f",
     "showTitle": false,
     "tableResultSettingsMap": {},
     "title": ""
    }
   },
   "source": [
    "### Create a materialized view for product lookups (to ensure freshness)"
   ]
  },
  {
   "cell_type": "code",
   "execution_count": 0,
   "metadata": {
    "application/vnd.databricks.v1+cell": {
     "cellMetadata": {
      "byteLimit": 2048000,
      "rowLimit": 10000
     },
     "inputWidgets": {},
     "nuid": "a28c860a-051c-4039-b574-724ce58a383b",
     "showTitle": false,
     "tableResultSettingsMap": {},
     "title": ""
    }
   },
   "outputs": [],
   "source": [
    "CREATE OR REPLACE MATERIALIZED VIEW mv_product_lookup AS\n",
    "SELECT * FROM hive_metastore.dltdb.products;"
   ]
  },
  {
   "cell_type": "markdown",
   "metadata": {
    "application/vnd.databricks.v1+cell": {
     "cellMetadata": {
      "byteLimit": 2048000,
      "rowLimit": 10000
     },
     "inputWidgets": {},
     "nuid": "e6257a8c-bf46-4410-ada7-793f187488c0",
     "showTitle": false,
     "tableResultSettingsMap": {},
     "title": ""
    }
   },
   "source": [
    "### Create Silver streaming table with product enrichment and expectation\n",
    "\n",
    "#### Understanding the LIVE Keyword and STREAM Method in DLT\n",
    "- The **LIVE** keyword is a namespace used to refer to any DLT-managed object (table, view) within the same pipeline.\n",
    "\n",
    "- The **STREAM(...)** method is used to read a table as a streaming source, enabling incremental (append-only) data processing.\n",
    "\n",
    "- When using STREAM(...) to read from a source:\n",
    "\n",
    "  - The target table must be defined as a streaming table using CREATE OR REFRESH STREAMING TABLE.\n",
    "  - This ensures incremental ingestion and avoids full refresh behavior."
   ]
  },
  {
   "cell_type": "code",
   "execution_count": 0,
   "metadata": {
    "application/vnd.databricks.v1+cell": {
     "cellMetadata": {
      "byteLimit": 2048000,
      "rowLimit": 10000
     },
     "inputWidgets": {},
     "nuid": "355edf29-6af2-412a-ae9d-b7eb88cba897",
     "showTitle": false,
     "tableResultSettingsMap": {},
     "title": ""
    }
   },
   "outputs": [],
   "source": [
    "CREATE OR REFRESH STREAMING TABLE silver_sales AS\n",
    "SELECT\n",
    "  b.order_id,\n",
    "  b.customer_id,\n",
    "  b.product_id,\n",
    "  p.product_name,\n",
    "  p.unit_price,\n",
    "  b.quantity,\n",
    "  (b.quantity * p.unit_price) AS total_price,\n",
    "  b.order_timestamp\n",
    "FROM STREAM(LIVE.bronze_sales) AS b\n",
    "JOIN LIVE.mv_product_lookup AS p\n",
    "  ON b.product_id = p.product_id;"
   ]
  },
  {
   "cell_type": "markdown",
   "metadata": {
    "application/vnd.databricks.v1+cell": {
     "cellMetadata": {
      "byteLimit": 2048000,
      "rowLimit": 10000
     },
     "inputWidgets": {},
     "nuid": "dd83fbee-6a01-45e3-8b06-e7b13a860c27",
     "showTitle": false,
     "tableResultSettingsMap": {},
     "title": ""
    }
   },
   "source": [
    "### Gold – Business Aggregation"
   ]
  },
  {
   "cell_type": "code",
   "execution_count": 0,
   "metadata": {
    "application/vnd.databricks.v1+cell": {
     "cellMetadata": {
      "byteLimit": 2048000,
      "rowLimit": 10000
     },
     "inputWidgets": {},
     "nuid": "bdca1f86-e753-4e3b-8a75-116f288d36ca",
     "showTitle": false,
     "tableResultSettingsMap": {},
     "title": ""
    }
   },
   "outputs": [],
   "source": [
    "CREATE OR REPLACE MATERIALIZED VIEW gold_top_products AS\n",
    "SELECT\n",
    "  product_id,\n",
    "  product_name,\n",
    "  SUM(quantity) AS total_quantity_sold,\n",
    "  SUM(total_price) AS total_revenue\n",
    "FROM LIVE.silver_sales\n",
    "GROUP BY product_id, product_name\n",
    "ORDER BY total_quantity_sold DESC;"
   ]
  }
 ],
 "metadata": {
  "application/vnd.databricks.v1+notebook": {
   "computePreferences": null,
   "dashboards": [],
   "environmentMetadata": {
    "base_environment": "",
    "environment_version": "2"
   },
   "inputWidgetPreferences": null,
   "language": "sql",
   "notebookMetadata": {
    "pythonIndentUnit": 4
   },
   "notebookName": "DLT-Example-3",
   "widgets": {}
  },
  "language_info": {
   "name": "sql"
  }
 },
 "nbformat": 4,
 "nbformat_minor": 0
}
