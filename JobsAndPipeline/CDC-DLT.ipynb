{
 "cells": [
  {
   "cell_type": "code",
   "execution_count": 0,
   "metadata": {
    "application/vnd.databricks.v1+cell": {
     "cellMetadata": {},
     "inputWidgets": {},
     "nuid": "13e96459-c077-42c9-b7e1-d66b2e09418a",
     "showTitle": false,
     "tableResultSettingsMap": {},
     "title": ""
    }
   },
   "outputs": [],
   "source": [
    "CREATE OR REFRESH STREAMING TABLE cdc_feed\n",
    "COMMENT \"CDC feed for customers\"\n",
    "AS SELECT * FROM STREAM(cdc_demo.cdc_feed_table);\n",
    "\n",
    "CREATE OR REFRESH STREAMING TABLE customer_table\n",
    "COMMENT \"Target table for CDC data\"\n",
    "TBLPROPERTIES (\"quality\" = \"silver\");"
   ]
  },
  {
   "cell_type": "code",
   "execution_count": 0,
   "metadata": {
    "application/vnd.databricks.v1+cell": {
     "cellMetadata": {},
     "inputWidgets": {},
     "nuid": "9dc8fe48-a812-4475-90b7-3d16efc3904b",
     "showTitle": false,
     "tableResultSettingsMap": {},
     "title": ""
    }
   },
   "outputs": [],
   "source": [
    "APPLY CHANGES INTO LIVE.customer_table\n",
    "FROM STREAM(LIVE.cdc_feed)\n",
    "KEYS (customer_id)\n",
    "APPLY AS DELETE WHEN operation = \"DELETE\"\n",
    "SEQUENCE BY version\n",
    "COLUMNS * EXCEPT (operation, version);"
   ]
  },
  {
   "cell_type": "code",
   "execution_count": 0,
   "metadata": {
    "application/vnd.databricks.v1+cell": {
     "cellMetadata": {},
     "inputWidgets": {},
     "nuid": "2d304cbb-8962-4187-b51e-3ac7f80152e2",
     "showTitle": false,
     "tableResultSettingsMap": {},
     "title": ""
    }
   },
   "outputs": [],
   "source": [
    "CREATE OR REPLACE MATERIALIZED VIEW customer_table_mv \n",
    "AS SELECT customer_id, name, email\n",
    "FROM LIVE.customer_table;"
   ]
  }
 ],
 "metadata": {
  "application/vnd.databricks.v1+notebook": {
   "computePreferences": null,
   "dashboards": [],
   "environmentMetadata": {
    "base_environment": "",
    "environment_version": "2"
   },
   "inputWidgetPreferences": null,
   "language": "sql",
   "notebookMetadata": {
    "pythonIndentUnit": 4
   },
   "notebookName": "CDC-DLT",
   "widgets": {}
  },
  "language_info": {
   "name": "sql"
  }
 },
 "nbformat": 4,
 "nbformat_minor": 0
}
