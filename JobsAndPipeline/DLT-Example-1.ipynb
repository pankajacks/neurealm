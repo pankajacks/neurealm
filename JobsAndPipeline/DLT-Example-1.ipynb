{
 "cells": [
  {
   "cell_type": "markdown",
   "metadata": {
    "application/vnd.databricks.v1+cell": {
     "cellMetadata": {},
     "inputWidgets": {},
     "nuid": "11720775-14ce-4828-b4d2-b40d014ba722",
     "showTitle": false,
     "tableResultSettingsMap": {},
     "title": ""
    }
   },
   "source": [
    "### Create a DLT Pipeline using SQL"
   ]
  },
  {
   "cell_type": "markdown",
   "metadata": {
    "application/vnd.databricks.v1+cell": {
     "cellMetadata": {},
     "inputWidgets": {},
     "nuid": "914d875f-1fff-4836-9ed7-1e0b7b53dd13",
     "showTitle": false,
     "tableResultSettingsMap": {},
     "title": ""
    }
   },
   "source": [
    "### Create your First DLT pipeline\n",
    "- Observe the code in this notebook\n",
    "- Click on Jobs & Pipelines: and create a DLT pipeline (ETL Pipeline) and provide the following in formation:\n",
    "  - Pipeline name: `<Enter unique name>`\n",
    "  - Product edition: **Advance**\n",
    "  - Pipeline mode: **Triggered**\n",
    "  - Paths: `<Navigate to this notebook and select this notebook>`.\n",
    "  - Storage option: **hive_metastore**\n",
    "  - Storage location: **dbfs:/pipelines/tables**\n",
    "  - Default schema: **default**\n",
    "  - Cluster mode: **Fixed size**\n",
    "  - Workers: **0**\n",
    "  - Driver type: **Ds3v2**\n",
    "  - Click Create\n",
    "  - On the DLT pipeline page, click Start.\n",
    "  - Navigate to **Catalog Explorer** after you pipeline start\n",
    "    - Under hive_metastore look to **top_n** table"
   ]
  },
  {
   "cell_type": "code",
   "execution_count": 0,
   "metadata": {
    "application/vnd.databricks.v1+cell": {
     "cellMetadata": {},
     "inputWidgets": {},
     "nuid": "dc81f2e3-4f18-4e5c-b101-7bbc27fe9575",
     "showTitle": false,
     "tableResultSettingsMap": {},
     "title": ""
    }
   },
   "outputs": [],
   "source": [
    "-- USE CATALOG hive_metastore;\n",
    "-- DROP SCHEMA IF EXISTS dltexample CASCADE;\n",
    "-- CREATE SCHEMA dltexample;"
   ]
  },
  {
   "cell_type": "code",
   "execution_count": 0,
   "metadata": {
    "application/vnd.databricks.v1+cell": {
     "cellMetadata": {
      "byteLimit": 2048000,
      "rowLimit": 10000
     },
     "inputWidgets": {},
     "nuid": "52ae3797-2b94-4071-bf4a-2144bcb12834",
     "showTitle": false,
     "tableResultSettingsMap": {},
     "title": ""
    }
   },
   "outputs": [],
   "source": [
    "-- Bronze layer: Raw data ingestion\n",
    "CREATE OR REFRESH STREAMING TABLE taxi_raw_records \n",
    "(CONSTRAINT valid_distance EXPECT (trip_distance > 0.0) ON VIOLATION DROP ROW)\n",
    "AS SELECT *\n",
    "FROM STREAM(samples.nyctaxi.trips);\n",
    "\n",
    "-- Silver layer 1: Flagged rides\n",
    "CREATE OR REFRESH STREAMING TABLE flagged_rides \n",
    "AS SELECT\n",
    "  date_trunc(\"week\", tpep_pickup_datetime) as week,\n",
    "  pickup_zip as zip, \n",
    "  fare_amount, trip_distance\n",
    "FROM\n",
    "  STREAM(LIVE.taxi_raw_records)\n",
    "WHERE ((pickup_zip = dropoff_zip AND fare_amount > 50) OR\n",
    "       (trip_distance < 5 AND fare_amount > 50));\n",
    "\n",
    "-- Silver layer 2: Weekly statistics\n",
    "CREATE OR REFRESH MATERIALIZED VIEW weekly_stats\n",
    "AS SELECT\n",
    "  date_trunc(\"week\", tpep_pickup_datetime) as week,\n",
    "  AVG(fare_amount) as avg_amount,\n",
    "  AVG(trip_distance) as avg_distance\n",
    "FROM\n",
    " live.taxi_raw_records\n",
    "GROUP BY week\n",
    "ORDER BY week ASC;\n",
    "\n",
    "-- Gold layer: Top N rides to investigate\n",
    "CREATE OR REPLACE MATERIALIZED VIEW top_n\n",
    "AS SELECT\n",
    "  weekly_stats.week,\n",
    "  ROUND(avg_amount,2) as avg_amount, \n",
    "  ROUND(avg_distance,3) as avg_distance,\n",
    "  fare_amount, trip_distance, zip \n",
    "FROM live.flagged_rides\n",
    "LEFT JOIN live.weekly_stats ON weekly_stats.week = flagged_rides.week\n",
    "ORDER BY fare_amount DESC\n",
    "LIMIT 3;"
   ]
  }
 ],
 "metadata": {
  "application/vnd.databricks.v1+notebook": {
   "computePreferences": null,
   "dashboards": [],
   "environmentMetadata": {
    "base_environment": "",
    "environment_version": "2"
   },
   "inputWidgetPreferences": null,
   "language": "sql",
   "notebookMetadata": {
    "pythonIndentUnit": 4
   },
   "notebookName": "DLT-Example-1",
   "widgets": {}
  },
  "language_info": {
   "name": "sql"
  }
 },
 "nbformat": 4,
 "nbformat_minor": 0
}
