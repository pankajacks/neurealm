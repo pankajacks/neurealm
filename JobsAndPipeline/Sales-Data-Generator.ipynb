{
 "cells": [
  {
   "cell_type": "code",
   "execution_count": 0,
   "metadata": {
    "application/vnd.databricks.v1+cell": {
     "cellMetadata": {
      "byteLimit": 2048000,
      "rowLimit": 10000
     },
     "inputWidgets": {},
     "nuid": "4138fd70-e00b-4d56-9d49-28d885c6829b",
     "showTitle": false,
     "tableResultSettingsMap": {},
     "title": ""
    }
   },
   "outputs": [],
   "source": [
    "from pyspark.sql.functions import *\n",
    "import uuid\n",
    "import json\n",
    "import random\n",
    "from datetime import datetime, timedelta"
   ]
  },
  {
   "cell_type": "code",
   "execution_count": 0,
   "metadata": {
    "application/vnd.databricks.v1+cell": {
     "cellMetadata": {
      "byteLimit": 2048000,
      "rowLimit": 10000
     },
     "inputWidgets": {},
     "nuid": "792906ac-bc7f-4f57-aa69-3b94b913b851",
     "showTitle": false,
     "tableResultSettingsMap": {},
     "title": ""
    }
   },
   "outputs": [],
   "source": [
    "sales_path = \"/mnt/files/sales_order\"\n",
    "dbutils.fs.rm(sales_path, True)"
   ]
  },
  {
   "cell_type": "code",
   "execution_count": 0,
   "metadata": {
    "application/vnd.databricks.v1+cell": {
     "cellMetadata": {
      "byteLimit": 2048000,
      "rowLimit": 10000
     },
     "inputWidgets": {},
     "nuid": "c234e823-6c45-471e-a69a-22d2677434d7",
     "showTitle": false,
     "tableResultSettingsMap": {},
     "title": ""
    }
   },
   "outputs": [],
   "source": [
    "spark.sql(\"USE CATALOG hive_metastore\")\n",
    "spark.sql(\"DROP DATABASE IF EXISTS dltdb CASCADE\")\n",
    "spark.sql(\"CREATE DATABASE dltdb\")\n",
    "spark.sql(\"USE dltdb\")"
   ]
  },
  {
   "cell_type": "code",
   "execution_count": 0,
   "metadata": {
    "application/vnd.databricks.v1+cell": {
     "cellMetadata": {
      "byteLimit": 2048000,
      "rowLimit": 10000
     },
     "inputWidgets": {},
     "nuid": "9ea589a5-e5eb-43d1-9381-3d5011e5267e",
     "showTitle": false,
     "tableResultSettingsMap": {},
     "title": ""
    }
   },
   "outputs": [],
   "source": [
    "# Generate static product table\n",
    "product_data = [\n",
    "    (101, \"Laptop\", 800),\n",
    "    (102, \"Mouse\", 25),\n",
    "    (103, \"Keyboard\", 45),\n",
    "    (104, \"Monitor\", 180),\n",
    "    (105, \"Headphones\", 60),\n",
    "    (106, \"Webcam\", 70),\n",
    "    (107, \"Printer\", 150),\n",
    "    (108, \"Tablet\", 300),\n",
    "    (109, \"Smartphone\", 600),\n",
    "    (110, \"Speakers\", 120),\n",
    "    (111, \"Router\", 90),\n",
    "    (112, \"External Hard Drive\", 100)\n",
    "]\n",
    "product_df = spark.createDataFrame(product_data, [\"product_id\", \"product_name\", \"unit_price\"])\n",
    "product_df.write.mode(\"overwrite\").format(\"delta\").saveAsTable(\"products\")"
   ]
  },
  {
   "cell_type": "markdown",
   "metadata": {
    "application/vnd.databricks.v1+cell": {
     "cellMetadata": {},
     "inputWidgets": {},
     "nuid": "b011cb77-f55e-45fa-b31f-9a23855a3de2",
     "showTitle": false,
     "tableResultSettingsMap": {},
     "title": ""
    }
   },
   "source": [
    "### Sales Data Generator Function"
   ]
  },
  {
   "cell_type": "code",
   "execution_count": 0,
   "metadata": {
    "application/vnd.databricks.v1+cell": {
     "cellMetadata": {
      "byteLimit": 2048000,
      "rowLimit": 10000
     },
     "inputWidgets": {},
     "nuid": "8c2204ba-18bc-43b9-8828-12e0cbdf4652",
     "showTitle": false,
     "tableResultSettingsMap": {},
     "title": ""
    }
   },
   "outputs": [],
   "source": [
    "# Ensure the directory exists\n",
    "dbutils.fs.mkdirs(sales_path)\n",
    "\n",
    "def generate_sales_data(num_records=5):\n",
    "    sales = []\n",
    "    for _ in range(num_records):\n",
    "        sales.append({\n",
    "            \"order_id\": str(uuid.uuid4()),\n",
    "            \"customer_id\": random.choice([1, 2, 3, 4, 5]),\n",
    "            \"product_id\": random.choice([101, 102, 103, 104, 105, 106, 107, 108, 109, 110, 111, 112]),\n",
    "            \"quantity\": random.randint(0, 5),\n",
    "            \"order_timestamp\": (datetime.now() - timedelta(minutes=random.randint(1, 60))).strftime(\"%Y-%m-%d %H:%M:%S\")\n",
    "        })\n",
    "\n",
    "    file_name = f\"/dbfs{sales_path}/sales_{uuid.uuid4()}.json\"\n",
    "    \n",
    "    with open(file_name, \"w\") as f:\n",
    "        for record in sales:\n",
    "            f.write(json.dumps(record) + \"\\n\")  # Write as newline-delimited JSON (NDJSON)\n",
    "\n",
    "    print(f\"{num_records} sales records written to {file_name}\")"
   ]
  },
  {
   "cell_type": "code",
   "execution_count": 0,
   "metadata": {
    "application/vnd.databricks.v1+cell": {
     "cellMetadata": {
      "byteLimit": 2048000,
      "rowLimit": 10000
     },
     "inputWidgets": {},
     "nuid": "822e7721-1a9b-44fd-8fb7-c60ef93c7a77",
     "showTitle": false,
     "tableResultSettingsMap": {},
     "title": ""
    }
   },
   "outputs": [],
   "source": [
    "display(dbutils.fs.ls(sales_path))"
   ]
  },
  {
   "cell_type": "code",
   "execution_count": 0,
   "metadata": {
    "application/vnd.databricks.v1+cell": {
     "cellMetadata": {
      "byteLimit": 2048000,
      "rowLimit": 10000
     },
     "inputWidgets": {},
     "nuid": "bffb966d-77ef-4670-a97a-80ade8831fe6",
     "showTitle": false,
     "tableResultSettingsMap": {},
     "title": ""
    }
   },
   "outputs": [],
   "source": [
    "generate_sales_data(200)\n",
    "display(dbutils.fs.ls(sales_path))"
   ]
  },
  {
   "cell_type": "code",
   "execution_count": 0,
   "metadata": {
    "application/vnd.databricks.v1+cell": {
     "cellMetadata": {
      "byteLimit": 2048000,
      "rowLimit": 10000
     },
     "inputWidgets": {},
     "nuid": "5489c5bf-0745-4a05-bd8b-4ba02ce42a8d",
     "showTitle": false,
     "tableResultSettingsMap": {},
     "title": ""
    }
   },
   "outputs": [],
   "source": [
    "spark.sql(\"SELECT * FROM dltdb.gold_top_products\").display()"
   ]
  },
  {
   "cell_type": "markdown",
   "metadata": {
    "application/vnd.databricks.v1+cell": {
     "cellMetadata": {},
     "inputWidgets": {},
     "nuid": "26d5e9dd-c3a5-49f5-a8e6-d9427909f2d4",
     "showTitle": false,
     "tableResultSettingsMap": {},
     "title": ""
    }
   },
   "source": [
    "### Clean Up"
   ]
  },
  {
   "cell_type": "code",
   "execution_count": 0,
   "metadata": {
    "application/vnd.databricks.v1+cell": {
     "cellMetadata": {
      "byteLimit": 2048000,
      "rowLimit": 10000
     },
     "inputWidgets": {},
     "nuid": "3b002e97-515a-4114-a8c0-eafa2599bf37",
     "showTitle": false,
     "tableResultSettingsMap": {},
     "title": ""
    }
   },
   "outputs": [],
   "source": [
    "dbutils.fs.rm(sales_path, True)\n",
    "dbutils.fs.rm(\"/mnt/files/tables\", True)\n",
    "spark.sql(\"DROP DATABASE IF EXISTS dltdb CASCADE\")"
   ]
  }
 ],
 "metadata": {
  "application/vnd.databricks.v1+notebook": {
   "computePreferences": null,
   "dashboards": [],
   "environmentMetadata": {
    "base_environment": "",
    "environment_version": "2"
   },
   "inputWidgetPreferences": null,
   "language": "python",
   "notebookMetadata": {
    "pythonIndentUnit": 4
   },
   "notebookName": "Sales-Data-Generator",
   "widgets": {}
  },
  "language_info": {
   "name": "python"
  }
 },
 "nbformat": 4,
 "nbformat_minor": 0
}
