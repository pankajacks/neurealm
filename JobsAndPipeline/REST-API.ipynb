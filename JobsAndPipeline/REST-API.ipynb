{
 "cells": [
  {
   "cell_type": "markdown",
   "metadata": {
    "application/vnd.databricks.v1+cell": {
     "cellMetadata": {},
     "inputWidgets": {},
     "nuid": "c6b5ffc1-74f5-45ba-b5a8-9afdbcbd0fc6",
     "showTitle": false,
     "tableResultSettingsMap": {},
     "title": ""
    }
   },
   "source": [
    "### What is Databricks REST API?\n",
    "The Databricks REST API is a collection of programmatic interfaces that allow you to interact with Databricks resources such as clusters, jobs, notebooks, files, secrets, and more—using HTTP requests. It allows automation, integration, and management of your Databricks workspace outside the web UI."
   ]
  },
  {
   "cell_type": "markdown",
   "metadata": {
    "application/vnd.databricks.v1+cell": {
     "cellMetadata": {},
     "inputWidgets": {},
     "nuid": "c914a667-780d-4916-a716-d5a2b63a63c1",
     "showTitle": false,
     "tableResultSettingsMap": {},
     "title": ""
    }
   },
   "source": [
    "### Use Cases of Databricks REST API\n",
    "- 🚀 Automate workflows: Trigger jobs, create clusters, monitor executions.\n",
    "- 📁 Manage workspace assets: Upload/download notebooks, scripts, and files.\n",
    "- 🔐 Manage secrets: Create scopes, add/update secrets.\n",
    "- 🔄 CI/CD integration: Deploy notebooks/jobs through pipelines.\n",
    "- 👥 Manage users and permissions."
   ]
  },
  {
   "cell_type": "markdown",
   "metadata": {
    "application/vnd.databricks.v1+cell": {
     "cellMetadata": {},
     "inputWidgets": {},
     "nuid": "3ccdeacd-55e0-402b-bd40-ab3481821afe",
     "showTitle": false,
     "tableResultSettingsMap": {},
     "title": ""
    }
   },
   "source": [
    "### Commonly Used API Categories\n",
    "| Resource        | Example Use                          |\n",
    "| --------------- | ------------------------------------ |\n",
    "| `Clusters API`  | Create, start, stop clusters         |\n",
    "| `Jobs API`      | Submit/run/monitor jobs              |\n",
    "| `Workspace API` | Import/export notebooks              |\n",
    "| `DBFS API`      | Upload/download files                |\n",
    "| `Secrets API`   | Manage secrets for authentication    |\n",
    "| `SQL API`       | Execute SQL queries programmatically |\n",
    "\n",
    "[Databrick REST API reference (Azure)](https://docs.databricks.com/api/azure/workspace/introduction)"
   ]
  },
  {
   "cell_type": "markdown",
   "metadata": {
    "application/vnd.databricks.v1+cell": {
     "cellMetadata": {},
     "inputWidgets": {},
     "nuid": "2339f876-eb24-4e17-8583-2e3f7fd3402a",
     "showTitle": false,
     "tableResultSettingsMap": {},
     "title": ""
    }
   },
   "source": [
    "### Authentication for Databricks REST API\n",
    "To access the Databricks REST API securely, authentication is required. This ensures only authorized users or systems can perform actions like running jobs, uploading notebooks, or managing secrets.\n",
    "\n",
    "Databricks supports two types of tokens for authentication:"
   ]
  },
  {
   "cell_type": "markdown",
   "metadata": {
    "application/vnd.databricks.v1+cell": {
     "cellMetadata": {},
     "inputWidgets": {},
     "nuid": "0fb2567a-d79b-4e0d-864b-654184313e21",
     "showTitle": false,
     "tableResultSettingsMap": {},
     "title": ""
    }
   },
   "source": [
    "### Personal Access Token (PAT)\n",
    "- **Best for**: Individual use, scripts, automation tools\n",
    "- **Not ideal for**: Multi-user or enterprise-wide integrations with strict governance\n",
    "\n",
    "#### How to generate a PAT:\n",
    "- Log in to Databricks workspace.\n",
    "- Go to User Settings (click your avatar).\n",
    "- Click \"Access Tokens\".\n",
    "- Click \"Generate New Token\".\n",
    "- Copy the token (you won’t see it again).\n",
    "\n",
    "#### Using PAT in API calls:\n",
    "Set the Authorization header like this:\n",
    "```\n",
    "headers = {\n",
    "    \"Authorization\": \"Bearer <your_pat_token>\"\n",
    "}\n",
    "```\n"
   ]
  },
  {
   "cell_type": "markdown",
   "metadata": {
    "application/vnd.databricks.v1+cell": {
     "cellMetadata": {},
     "inputWidgets": {},
     "nuid": "72def21a-4e1d-4cac-821b-87dca973d453",
     "showTitle": false,
     "tableResultSettingsMap": {},
     "title": ""
    }
   },
   "source": [
    "### Azure Active Directory (AAD) Token\n",
    "- **Best for**: Enterprise apps, Azure-integrated workflows, user impersonation\n",
    "- **Slightly more complex to set up**\n",
    "\n",
    "#### How it works:\n",
    "Uses OAuth2.0 to obtain an AAD token from Microsoft Entra ID. This allows:\n",
    "\n",
    "- Centralized token lifecycle management\n",
    "- Role-based access control\n",
    "- Audit logging\n",
    "\n",
    "#### Steps to use AAD token:\n",
    "1. Register your app in Microsoft Entra ID (Azure AD).\n",
    "1. Get a token from Azure AD via OAuth2.0:\n",
    "\n",
    "   `az account get-access-token --resource=https://<databricks-instance>#<workspace-id>`\n",
    "1. Use the returned token in the header.\n"
   ]
  },
  {
   "cell_type": "code",
   "execution_count": 0,
   "metadata": {
    "application/vnd.databricks.v1+cell": {
     "cellMetadata": {
      "byteLimit": 2048000,
      "rowLimit": 10000
     },
     "inputWidgets": {},
     "nuid": "a0a445dd-5efd-48b7-a6d2-10ae980a003a",
     "showTitle": false,
     "tableResultSettingsMap": {},
     "title": ""
    }
   },
   "outputs": [],
   "source": [
    "import requests\n",
    "\n",
    "# Define workspace URL and token\n",
    "DATABRICKS_INSTANCE = 'https://adb-3251879884955162.2.azuredatabricks.net/'\n",
    "TOKEN = ''"
   ]
  },
  {
   "cell_type": "markdown",
   "metadata": {
    "application/vnd.databricks.v1+cell": {
     "cellMetadata": {},
     "inputWidgets": {},
     "nuid": "8fb55231-097d-44ae-b7a3-8e8baeee15cd",
     "showTitle": false,
     "tableResultSettingsMap": {},
     "title": ""
    }
   },
   "source": [
    "### List Notebooks"
   ]
  },
  {
   "cell_type": "code",
   "execution_count": 0,
   "metadata": {
    "application/vnd.databricks.v1+cell": {
     "cellMetadata": {
      "byteLimit": 2048000,
      "rowLimit": 10000
     },
     "inputWidgets": {},
     "nuid": "4cfc333d-0be4-43cb-acba-84e310982fb3",
     "showTitle": false,
     "tableResultSettingsMap": {},
     "title": ""
    }
   },
   "outputs": [],
   "source": [
    "# Set the base path to root folder or any sub-folder (e.g., \"/Users/your.name\")\n",
    "list_path = \"/Users/admin@pankajacksgmail.onmicrosoft.com/neurealm/JobsAndPipeline\"\n",
    "\n",
    "# API endpoint\n",
    "url = f\"{DATABRICKS_INSTANCE}/api/2.0/workspace/list/\"\n",
    "\n",
    "# Request headers\n",
    "headers = {\n",
    "    \"Authorization\": f\"Bearer {TOKEN}\"\n",
    "}\n",
    "\n",
    "# Request params\n",
    "params = {\n",
    "    \"path\": list_path\n",
    "}\n",
    "\n",
    "# Make the request\n",
    "response = requests.get(url, headers=headers, params=params)\n",
    "\n",
    "# Display result\n",
    "if response.status_code == 200:\n",
    "    items = response.json().get(\"objects\", [])\n",
    "    for item in items:\n",
    "        print(f\"{item['object_type']}: {item['path']}\")\n",
    "else:\n",
    "    print(f\"Error: {response.status_code}, {response.text}\")\n"
   ]
  },
  {
   "cell_type": "markdown",
   "metadata": {
    "application/vnd.databricks.v1+cell": {
     "cellMetadata": {},
     "inputWidgets": {},
     "nuid": "8632ef9b-e79b-4f51-915e-7a606db0ab55",
     "showTitle": false,
     "tableResultSettingsMap": {},
     "title": ""
    }
   },
   "source": [
    "### Create a Job"
   ]
  },
  {
   "cell_type": "code",
   "execution_count": 0,
   "metadata": {
    "application/vnd.databricks.v1+cell": {
     "cellMetadata": {
      "byteLimit": 2048000,
      "rowLimit": 10000
     },
     "inputWidgets": {},
     "nuid": "4f955f81-61eb-44cd-b905-7229fefb9e8a",
     "showTitle": false,
     "tableResultSettingsMap": {},
     "title": ""
    }
   },
   "outputs": [],
   "source": [
    "NOTEBOOK_PATH = \"/Users/admin@pankajacksgmail.onmicrosoft.com/neurealm/JobsAndPipeline/Random-String\"\n",
    "CLUSTER_ID = \"0625-053440-himm25sq\"  # Optional: or use new_cluster block\n",
    "\n",
    "# Endpoint to create job\n",
    "url = f\"{DATABRICKS_INSTANCE}/api/2.2/jobs/create\"\n",
    "\n",
    "# Headers\n",
    "headers = {\n",
    "    \"Authorization\": f\"Bearer {TOKEN}\"\n",
    "}\n",
    "\n",
    "# Job definition payload\n",
    "payload = {\n",
    "    \"name\": \"My Notebook Job via API\",\n",
    "    \"existing_cluster_id\": CLUSTER_ID,\n",
    "    \"notebook_task\": {\n",
    "        \"notebook_path\": NOTEBOOK_PATH,\n",
    "        \"base_parameters\": {\n",
    "            \"param1\": \"value1\"  # optional parameters for dbutils.widgets.get\n",
    "        }\n",
    "    }\n",
    "}\n",
    "\n",
    "# Make API call\n",
    "response = requests.post(url, headers=headers, json=payload)\n",
    "\n",
    "# Print result\n",
    "if response.status_code == 200:\n",
    "    job_id = response.json()[\"job_id\"]\n",
    "    print(f\"Job created successfully! Job ID: {job_id}\")\n",
    "else:\n",
    "    print(f\"Failed to create job. Status: {response.status_code}, Error: {response.text}\")\n"
   ]
  },
  {
   "cell_type": "markdown",
   "metadata": {
    "application/vnd.databricks.v1+cell": {
     "cellMetadata": {},
     "inputWidgets": {},
     "nuid": "7fb4a91f-93d5-4e76-9d15-cd07f19b50ee",
     "showTitle": false,
     "tableResultSettingsMap": {},
     "title": ""
    }
   },
   "source": [
    "### List All Jobs"
   ]
  },
  {
   "cell_type": "code",
   "execution_count": 0,
   "metadata": {
    "application/vnd.databricks.v1+cell": {
     "cellMetadata": {
      "byteLimit": 2048000,
      "rowLimit": 10000
     },
     "inputWidgets": {},
     "nuid": "34d62bc4-5a6f-4e85-8a63-1dcfbe816e3a",
     "showTitle": false,
     "tableResultSettingsMap": {},
     "title": ""
    }
   },
   "outputs": [],
   "source": [
    "# API Endpoint to list jobs\n",
    "url = f'{DATABRICKS_INSTANCE}/api/2.2/jobs/list'\n",
    "\n",
    "# Make the GET request\n",
    "response = requests.get(url, headers=headers)\n",
    "\n",
    "# Display response\n",
    "if response.status_code == 200:\n",
    "    jobs = response.json()\n",
    "    for job in jobs.get('jobs', []):\n",
    "        print(f\"Job ID: {job['job_id']}, Name: {job['settings']['name']}\")\n",
    "else:\n",
    "    print(f\"Error: {response.status_code}, {response.text}\")\n"
   ]
  },
  {
   "cell_type": "markdown",
   "metadata": {
    "application/vnd.databricks.v1+cell": {
     "cellMetadata": {},
     "inputWidgets": {},
     "nuid": "732fa0e8-0182-4079-9dc3-30810aad88ea",
     "showTitle": false,
     "tableResultSettingsMap": {},
     "title": ""
    }
   },
   "source": [
    "### Run a Job"
   ]
  },
  {
   "cell_type": "code",
   "execution_count": 0,
   "metadata": {
    "application/vnd.databricks.v1+cell": {
     "cellMetadata": {
      "byteLimit": 2048000,
      "rowLimit": 10000
     },
     "inputWidgets": {},
     "nuid": "30e8ca0c-88ba-44a5-b319-f20bc06b994c",
     "showTitle": false,
     "tableResultSettingsMap": {},
     "title": ""
    }
   },
   "outputs": [],
   "source": [
    "url = f\"{DATABRICKS_INSTANCE}/api/2.2/jobs/run-now\"\n",
    "data = {\n",
    "    \"job_id\": job_id,\n",
    "    # \"param\": \"overriding_val\"\n",
    "}\n",
    "\n",
    "response = requests.post(url, headers=headers, json=data)\n",
    "\n",
    "if response.status_code == 200:\n",
    "    print(\"Job started successfully!\")\n",
    "    print(response.json())\n",
    "else:\n",
    "    print(f\"Failed to start job: {response.text}\")\n"
   ]
  },
  {
   "cell_type": "markdown",
   "metadata": {
    "application/vnd.databricks.v1+cell": {
     "cellMetadata": {},
     "inputWidgets": {},
     "nuid": "470cbba2-c161-4179-aa6f-942412683166",
     "showTitle": false,
     "tableResultSettingsMap": {},
     "title": ""
    }
   },
   "source": [
    "### Get Job Status and Output"
   ]
  },
  {
   "cell_type": "code",
   "execution_count": 0,
   "metadata": {
    "application/vnd.databricks.v1+cell": {
     "cellMetadata": {
      "byteLimit": 2048000,
      "rowLimit": 10000
     },
     "inputWidgets": {},
     "nuid": "9dffb595-4952-47dc-87ee-4b85657d3404",
     "showTitle": false,
     "tableResultSettingsMap": {},
     "title": ""
    }
   },
   "outputs": [],
   "source": [
    "import requests\n",
    "\n",
    "RUN_ID = 994265203054286  # Replace with actual run ID\n",
    "\n",
    "# Common headers\n",
    "headers = {\n",
    "    \"Authorization\": f\"Bearer {TOKEN}\"\n",
    "}\n",
    "\n",
    "# STEP 1: Get job run status\n",
    "status_url = f\"{DATABRICKS_INSTANCE}/api/2.1/jobs/runs/get\"\n",
    "status_response = requests.get(status_url, headers=headers, params={\"run_id\": RUN_ID})\n",
    "\n",
    "if status_response.status_code == 200:\n",
    "    run_data = status_response.json()\n",
    "    life_cycle = run_data[\"state\"][\"life_cycle_state\"]\n",
    "    result_state = run_data[\"state\"].get(\"result_state\", \"N/A\")\n",
    "    print(f\"\\n=== Job Status ===\\nLife Cycle State: {life_cycle}\\nResult State: {result_state}\")\n",
    "else:\n",
    "    print(f\"Failed to get job status. Status Code: {status_response.status_code}\")\n",
    "    exit()\n",
    "\n",
    "# STEP 2: Get job output (only if completed)\n",
    "if life_cycle in [\"TERMINATED\", \"SKIPPED\", \"INTERNAL_ERROR\"]:\n",
    "    output_url = f\"{DATABRICKS_INSTANCE}/api/2.2/jobs/runs/get-output\"\n",
    "    output_response = requests.get(output_url, headers=headers, params={\"run_id\": RUN_ID})\n",
    "    \n",
    "    if output_response.status_code == 200:\n",
    "        output_data = output_response.json()\n",
    "        result = output_data.get(\"notebook_output\", {}).get(\"result\", \"No output or dbutils.notebook.exit() used.\")\n",
    "        print(f\"\\n=== Job Output ===\\n{result}\")\n",
    "    else:\n",
    "        print(f\"Failed to get output. Status Code: {output_response.status_code}\")\n",
    "else:\n",
    "    print(\"\\nJob is still running. Wait for it to complete before checking output.\")\n"
   ]
  }
 ],
 "metadata": {
  "application/vnd.databricks.v1+notebook": {
   "computePreferences": null,
   "dashboards": [],
   "environmentMetadata": {
    "base_environment": "",
    "environment_version": "2"
   },
   "inputWidgetPreferences": null,
   "language": "python",
   "notebookMetadata": {
    "pythonIndentUnit": 4
   },
   "notebookName": "REST-API",
   "widgets": {}
  },
  "language_info": {
   "name": "python"
  }
 },
 "nbformat": 4,
 "nbformat_minor": 0
}
