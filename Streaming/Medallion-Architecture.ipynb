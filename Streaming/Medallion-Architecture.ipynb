{
 "cells": [
  {
   "cell_type": "markdown",
   "metadata": {
    "application/vnd.databricks.v1+cell": {
     "cellMetadata": {},
     "inputWidgets": {},
     "nuid": "7525ba6c-07de-4a80-a65e-11e83f75656f",
     "showTitle": false,
     "tableResultSettingsMap": {},
     "title": ""
    }
   },
   "source": [
    "# Introducing Medallion Architecture\n",
    "Medallion Architecture, also known as multi-hop architecture, is a data design pattern that organizes data into progressive layers. Its main objective is to incrementally improve the structure, quality, and usability of data as it moves through each layer."
   ]
  },
  {
   "cell_type": "markdown",
   "metadata": {
    "application/vnd.databricks.v1+cell": {
     "cellMetadata": {},
     "inputWidgets": {},
     "nuid": "7f551ffe-3547-4bca-8a98-3c5855fe1bb8",
     "showTitle": false,
     "tableResultSettingsMap": {},
     "title": ""
    }
   },
   "source": [
    "### The Layered Approach\n",
    "The architecture is built around three primary layers, each with a specific role in the data refinement process:\n",
    "\n",
    "- **Bronze Layer**\n",
    "- **Silver Layer**\n",
    "- **Gold Layer**\n",
    "\n",
    "These layers are named to reflect their increasing levels of data quality and business value."
   ]
  },
  {
   "cell_type": "markdown",
   "metadata": {
    "application/vnd.databricks.v1+cell": {
     "cellMetadata": {},
     "inputWidgets": {},
     "nuid": "2512c1e4-277e-47e3-ba6d-de514d8dd80b",
     "showTitle": false,
     "tableResultSettingsMap": {},
     "title": ""
    }
   },
   "source": [
    "### Bronze Layer\n",
    "The `bronze layer` is the foundation of the architecture. Here, data is ingested in its rawest form directly from source systems. This unprocessed data is stored in bronze tables exactly as received—no transformations are applied.\n",
    "\n",
    "**Purpose and Benefits:**\n",
    "\n",
    "- Preserves the original data for traceability and auditing\n",
    "- Acts as a single source of truth\n",
    "- Supports a wide range of sources (structured files, operational databases, streaming platforms like Kafka)"
   ]
  },
  {
   "cell_type": "markdown",
   "metadata": {
    "application/vnd.databricks.v1+cell": {
     "cellMetadata": {},
     "inputWidgets": {},
     "nuid": "c171338d-955d-43d8-be74-91b517839878",
     "showTitle": false,
     "tableResultSettingsMap": {},
     "title": ""
    }
   },
   "source": [
    "### Silver Layer\n",
    "Data is cleansed, standardized, and enriched as it moves into the silver layer.\n",
    "\n",
    "**Key activities:**\n",
    "\n",
    "- Removing duplicates and errors\n",
    "- Normalizing inconsistent formats\n",
    "- Validating data quality\n",
    "- Joining datasets to create a more integrated view\n",
    "\n",
    "Reliable, consistent data ready for analysis and consumption by downstream systems."
   ]
  },
  {
   "cell_type": "markdown",
   "metadata": {
    "application/vnd.databricks.v1+cell": {
     "cellMetadata": {},
     "inputWidgets": {},
     "nuid": "3f147643-4e57-4efd-ac30-4b70d303e3a7",
     "showTitle": false,
     "tableResultSettingsMap": {},
     "title": ""
    }
   },
   "source": [
    "### Gold Layer\n",
    "In the gold layer, data is transformed into its most refined, business-ready form.\n",
    "\n",
    "**Characteristics:**\n",
    "\n",
    "- Aggregation and summarization tailored to business needs\n",
    "- Creation of curated datasets for reporting, dashboards, and advanced analytics\n",
    "- Often used as the foundation for machine learning and AI models"
   ]
  },
  {
   "cell_type": "code",
   "execution_count": 0,
   "metadata": {
    "application/vnd.databricks.v1+cell": {
     "cellMetadata": {
      "byteLimit": 2048000,
      "rowLimit": 10000
     },
     "inputWidgets": {},
     "nuid": "808b3968-0635-4f80-8a15-7c07b083281a",
     "showTitle": false,
     "tableResultSettingsMap": {},
     "title": ""
    }
   },
   "outputs": [],
   "source": [
    "from pyspark.sql.functions import *\n",
    "import uuid\n",
    "import json\n",
    "import random\n",
    "from datetime import datetime, timedelta\n",
    "import pandas as pd\n",
    "\n",
    "# Table names\n",
    "bronze_table = \"bronze_sales_tbl\"\n",
    "silver_table = \"silver_sales_tbl\"\n",
    "gold_table   = \"gold_sales_tbl\"\n",
    "\n",
    "# Paths for Auto Loader input and checkpoints\n",
    "sales_path = \"/sales_order\"\n",
    "bronze_checkpoint = \"/checkpoint/bronze\"\n",
    "silver_checkpoint = \"/checkpoint/silver\"\n",
    "gold_checkpoint   = \"/checkpoint/gold\""
   ]
  },
  {
   "cell_type": "code",
   "execution_count": 0,
   "metadata": {
    "application/vnd.databricks.v1+cell": {
     "cellMetadata": {
      "byteLimit": 2048000,
      "rowLimit": 10000
     },
     "inputWidgets": {},
     "nuid": "6f5330b0-d1aa-4311-b4b8-31948b65221f",
     "showTitle": false,
     "tableResultSettingsMap": {},
     "title": ""
    }
   },
   "outputs": [],
   "source": [
    "spark.sql(\"USE CATALOG hive_metastore\")\n",
    "spark.sql(\"DROP DATABASE IF EXISTS medallion CASCADE\")\n",
    "spark.sql(\"CREATE DATABASE medallion\")\n",
    "spark.sql(\"USE medallion\")"
   ]
  },
  {
   "cell_type": "code",
   "execution_count": 0,
   "metadata": {
    "application/vnd.databricks.v1+cell": {
     "cellMetadata": {
      "byteLimit": 2048000,
      "rowLimit": 10000
     },
     "inputWidgets": {},
     "nuid": "b200b393-a6f4-4e85-add3-b51df54a59ea",
     "showTitle": false,
     "tableResultSettingsMap": {},
     "title": ""
    }
   },
   "outputs": [],
   "source": [
    "spark.sql(\"SHOW TABLES\").show()"
   ]
  },
  {
   "cell_type": "code",
   "execution_count": 0,
   "metadata": {
    "application/vnd.databricks.v1+cell": {
     "cellMetadata": {
      "byteLimit": 2048000,
      "rowLimit": 10000
     },
     "inputWidgets": {},
     "nuid": "cce4c5df-f146-4bfa-8cde-46e6df9da47e",
     "showTitle": false,
     "tableResultSettingsMap": {},
     "title": ""
    }
   },
   "outputs": [],
   "source": [
    "# Generate static customer table\n",
    "customer_data = [\n",
    "    (1, \"Alice\", \"North\"),\n",
    "    (2, \"Bob\", \"South\"),\n",
    "    (3, \"Charlie\", \"East\"),\n",
    "    (4, \"Diana\", \"West\"),\n",
    "    (5, \"Eve\", \"North\"),\n",
    "    (6, \"Frank\", \"South\"),\n",
    "    (7, \"Grace\", \"East\"),\n",
    "    (8, \"Hank\", \"West\"),\n",
    "    (9, \"Ivy\", \"North\"),\n",
    "    (10, \"Jack\", \"South\"),\n",
    "    (11, \"Kathy\", \"East\"),\n",
    "    (12, \"Leo\", \"West\"),\n",
    "    (13, \"Mona\", \"North\"),\n",
    "    (14, \"Nina\", \"South\"),\n",
    "    (15, \"Oscar\", \"East\")\n",
    "]\n",
    "customer_df = spark.createDataFrame(customer_data, [\"customer_id\", \"customer_name\", \"region\"])\n",
    "customer_df.write.mode(\"overwrite\").format(\"delta\").saveAsTable(\"customers\")\n",
    "\n",
    "# Generate static product table\n",
    "product_data = [\n",
    "    (101, \"Laptop\", 800),\n",
    "    (102, \"Mouse\", 25),\n",
    "    (103, \"Keyboard\", 45),\n",
    "    (104, \"Monitor\", 180),\n",
    "    (105, \"Headphones\", 60),\n",
    "    (106, \"Webcam\", 70),\n",
    "    (107, \"Printer\", 150),\n",
    "    (108, \"Tablet\", 300),\n",
    "    (109, \"Smartphone\", 600),\n",
    "    (110, \"Speakers\", 120),\n",
    "    (111, \"Router\", 90),\n",
    "    (112, \"External Hard Drive\", 100)\n",
    "]\n",
    "product_df = spark.createDataFrame(product_data, [\"product_id\", \"product_name\", \"unit_price\"])\n",
    "product_df.write.mode(\"overwrite\").format(\"delta\").saveAsTable(\"products\")"
   ]
  },
  {
   "cell_type": "markdown",
   "metadata": {
    "application/vnd.databricks.v1+cell": {
     "cellMetadata": {},
     "inputWidgets": {},
     "nuid": "26184087-e927-433d-8946-4220fdfa6e6d",
     "showTitle": false,
     "tableResultSettingsMap": {},
     "title": ""
    }
   },
   "source": [
    "### Sales Data Generator Function"
   ]
  },
  {
   "cell_type": "code",
   "execution_count": 0,
   "metadata": {
    "application/vnd.databricks.v1+cell": {
     "cellMetadata": {
      "byteLimit": 2048000,
      "rowLimit": 10000
     },
     "inputWidgets": {},
     "nuid": "5aadcb53-0ef4-429f-9b46-ffa58dff5c25",
     "showTitle": false,
     "tableResultSettingsMap": {},
     "title": ""
    }
   },
   "outputs": [],
   "source": [
    "# Ensure the directory exists\n",
    "dbutils.fs.mkdirs(sales_path)\n",
    "\n",
    "def generate_sales_data(num_records=5):\n",
    "    sales = []\n",
    "    for _ in range(num_records):\n",
    "        sales.append({\n",
    "            \"order_id\": str(uuid.uuid4()),\n",
    "            \"customer_id\": random.choice([1, 2, 3, 4, 5]),\n",
    "            \"product_id\": random.choice([101, 102, 103, 104, 105]),\n",
    "            \"quantity\": random.randint(1, 5),\n",
    "            \"order_timestamp\": (datetime.now() - timedelta(minutes=random.randint(1, 60))).strftime(\"%Y-%m-%d %H:%M:%S\")\n",
    "        })\n",
    "\n",
    "    file_name = f\"/dbfs{sales_path}/sales_{uuid.uuid4()}.json\"\n",
    "    \n",
    "    with open(file_name, \"w\") as f:\n",
    "        for record in sales:\n",
    "            f.write(json.dumps(record) + \"\\n\")  # Write as newline-delimited JSON (NDJSON)\n",
    "\n",
    "    print(f\"{num_records} sales records written to {file_name}\")\n",
    "\n",
    "def listStream():\n",
    "    for q in spark.streams.active:\n",
    "      print(\"Id: \", q.id, \"Streaming: \", q.isActive)\n",
    "\n",
    "def stopStream():\n",
    "    for q in spark.streams.active:\n",
    "      q.stop()\n",
    "      q.awaitTermination()\n",
    "\n",
    "def cleanup():\n",
    "    stopStream()\n",
    "    dbutils.fs.rm(\"/checkpoint\", True)\n",
    "    dbutils.fs.rm(\"/schema\", True)\n",
    "    dbutils.fs.rm(sales_path, True)\n",
    "    spark.sql(\"DROP DATABASE IF EXISTS medallion CASCADE\")"
   ]
  },
  {
   "cell_type": "code",
   "execution_count": 0,
   "metadata": {
    "application/vnd.databricks.v1+cell": {
     "cellMetadata": {
      "byteLimit": 2048000,
      "rowLimit": 10000
     },
     "inputWidgets": {},
     "nuid": "794be523-4720-40f9-a639-75d3fb278917",
     "showTitle": false,
     "tableResultSettingsMap": {},
     "title": ""
    }
   },
   "outputs": [],
   "source": [
    "generate_sales_data(10)\n",
    "display(dbutils.fs.ls(sales_path))"
   ]
  },
  {
   "cell_type": "markdown",
   "metadata": {
    "application/vnd.databricks.v1+cell": {
     "cellMetadata": {},
     "inputWidgets": {},
     "nuid": "a3605a0e-c184-4c09-b69c-e650b259c62c",
     "showTitle": false,
     "tableResultSettingsMap": {},
     "title": ""
    }
   },
   "source": [
    "### Auto Loader – Stream Raw Files to Bronze"
   ]
  },
  {
   "cell_type": "code",
   "execution_count": 0,
   "metadata": {
    "application/vnd.databricks.v1+cell": {
     "cellMetadata": {
      "byteLimit": 2048000,
      "rowLimit": 10000
     },
     "inputWidgets": {},
     "nuid": "36055076-589b-4e54-9335-0f4032fb4a81",
     "showTitle": false,
     "tableResultSettingsMap": {},
     "title": ""
    }
   },
   "outputs": [],
   "source": [
    "bronze_stream = (\n",
    "    spark.readStream\n",
    "    .format(\"cloudFiles\")\n",
    "    .option(\"cloudFiles.format\", \"json\")\n",
    "    .option(\"cloudFiles.schemaLocation\", f\"/schema/{bronze_table}\")\n",
    "    .load(sales_path)\n",
    "    .withColumn(\"input_file\", input_file_name())\n",
    "    .withColumn(\"load_time\", current_timestamp())\n",
    ")\n",
    "\n",
    "# Write to managed Bronze table\n",
    "(bronze_stream.writeStream\n",
    " .outputMode(\"append\")\n",
    " .option(\"checkpointLocation\", bronze_checkpoint)\n",
    " .toTable(bronze_table))\n"
   ]
  },
  {
   "cell_type": "code",
   "execution_count": 0,
   "metadata": {
    "application/vnd.databricks.v1+cell": {
     "cellMetadata": {
      "byteLimit": 2048000,
      "rowLimit": 10000
     },
     "inputWidgets": {},
     "nuid": "c29d8b5e-cc54-4914-b898-f370e643bf8a",
     "showTitle": false,
     "tableResultSettingsMap": {},
     "title": ""
    }
   },
   "outputs": [],
   "source": [
    "spark.table(bronze_table).display()"
   ]
  },
  {
   "cell_type": "code",
   "execution_count": 0,
   "metadata": {
    "application/vnd.databricks.v1+cell": {
     "cellMetadata": {
      "byteLimit": 2048000,
      "rowLimit": 10000
     },
     "inputWidgets": {},
     "nuid": "24f4b620-3cbc-4b66-9eb9-a88756805de8",
     "showTitle": false,
     "tableResultSettingsMap": {},
     "title": ""
    }
   },
   "outputs": [],
   "source": [
    "generate_sales_data(5)  # Add more records"
   ]
  },
  {
   "cell_type": "code",
   "execution_count": 0,
   "metadata": {
    "application/vnd.databricks.v1+cell": {
     "cellMetadata": {
      "byteLimit": 2048000,
      "rowLimit": 10000
     },
     "inputWidgets": {},
     "nuid": "0204a2ed-7da2-4de2-9a9b-db33931e2aea",
     "showTitle": false,
     "tableResultSettingsMap": {},
     "title": ""
    }
   },
   "outputs": [],
   "source": [
    "spark.table(bronze_table).display()"
   ]
  },
  {
   "cell_type": "markdown",
   "metadata": {
    "application/vnd.databricks.v1+cell": {
     "cellMetadata": {},
     "inputWidgets": {},
     "nuid": "be0e5b4a-9097-4b04-bba6-ee496c9ef57b",
     "showTitle": false,
     "tableResultSettingsMap": {},
     "title": ""
    }
   },
   "source": [
    "### Stream Bronze to Silver with Lookup Join"
   ]
  },
  {
   "cell_type": "code",
   "execution_count": 0,
   "metadata": {
    "application/vnd.databricks.v1+cell": {
     "cellMetadata": {
      "byteLimit": 2048000,
      "rowLimit": 10000
     },
     "inputWidgets": {},
     "nuid": "151d0147-02a4-44db-a578-f94c310d78ae",
     "showTitle": false,
     "tableResultSettingsMap": {},
     "title": ""
    }
   },
   "outputs": [],
   "source": [
    "# Load static customer lookup\n",
    "customer_lkp_df = spark.table(\"customers\")\n",
    "\n",
    "# Read Bronze as stream\n",
    "bronze_read_stream = spark.readStream.table(bronze_table)\n",
    "\n",
    "# Enrich and transform\n",
    "silver_stream = (\n",
    "    bronze_read_stream\n",
    "    .join(customer_lkp_df, on=\"customer_id\", how=\"left\")\n",
    "    .withColumn(\"order_date\", to_date(\"order_timestamp\"))\n",
    "    .select(\"order_id\", \"customer_id\", \"region\", \"product_id\", \"quantity\", \"order_date\", \"load_time\")\n",
    ")\n",
    "\n",
    "# Write to managed Silver table\n",
    "(silver_stream.writeStream\n",
    " .outputMode(\"append\")\n",
    " .option(\"checkpointLocation\", silver_checkpoint)\n",
    " .toTable(silver_table))\n"
   ]
  },
  {
   "cell_type": "code",
   "execution_count": 0,
   "metadata": {
    "application/vnd.databricks.v1+cell": {
     "cellMetadata": {
      "byteLimit": 2048000,
      "rowLimit": 10000
     },
     "inputWidgets": {},
     "nuid": "0ba6124d-e209-4e73-9441-b36029340366",
     "showTitle": false,
     "tableResultSettingsMap": {},
     "title": ""
    }
   },
   "outputs": [],
   "source": [
    "spark.table(silver_table).display()"
   ]
  },
  {
   "cell_type": "code",
   "execution_count": 0,
   "metadata": {
    "application/vnd.databricks.v1+cell": {
     "cellMetadata": {
      "byteLimit": 2048000,
      "rowLimit": 10000
     },
     "inputWidgets": {},
     "nuid": "2a6f49e6-8932-40b6-83a6-6abc1759b192",
     "showTitle": false,
     "tableResultSettingsMap": {},
     "title": ""
    }
   },
   "outputs": [],
   "source": [
    "generate_sales_data(5)  # Add more records"
   ]
  },
  {
   "cell_type": "code",
   "execution_count": 0,
   "metadata": {
    "application/vnd.databricks.v1+cell": {
     "cellMetadata": {
      "byteLimit": 2048000,
      "implicitDf": true,
      "rowLimit": 10000
     },
     "inputWidgets": {},
     "nuid": "3fdfc430-8c1e-405e-bd36-4b2a453e97b0",
     "showTitle": false,
     "tableResultSettingsMap": {},
     "title": ""
    }
   },
   "outputs": [],
   "source": [
    "spark.table(silver_table).display()"
   ]
  },
  {
   "cell_type": "markdown",
   "metadata": {
    "application/vnd.databricks.v1+cell": {
     "cellMetadata": {},
     "inputWidgets": {},
     "nuid": "2b2e03a4-b7ca-4edd-a3f7-46b0fb012a45",
     "showTitle": false,
     "tableResultSettingsMap": {},
     "title": ""
    }
   },
   "source": [
    "### Stream Silver to Gold with Aggregation"
   ]
  },
  {
   "cell_type": "code",
   "execution_count": 0,
   "metadata": {
    "application/vnd.databricks.v1+cell": {
     "cellMetadata": {
      "byteLimit": 2048000,
      "rowLimit": 10000
     },
     "inputWidgets": {},
     "nuid": "34e726e5-554f-479f-9ca0-b2fa57b0e303",
     "showTitle": false,
     "tableResultSettingsMap": {},
     "title": ""
    }
   },
   "outputs": [],
   "source": [
    "# Read Silver as stream\n",
    "silver_read_stream = spark.readStream.table(silver_table)\n",
    "\n",
    "# Aggregate\n",
    "gold_stream = (\n",
    "    silver_read_stream\n",
    "    .groupBy(\"region\", \"order_date\")\n",
    "    .agg(sum(\"quantity\").alias(\"total_quantity\"))\n",
    ")\n",
    "\n",
    "# Write to managed Gold table\n",
    "(gold_stream.writeStream\n",
    " .outputMode(\"complete\")  # Required for aggregations\n",
    " .option(\"checkpointLocation\", gold_checkpoint)\n",
    " .toTable(gold_table))\n"
   ]
  },
  {
   "cell_type": "code",
   "execution_count": 0,
   "metadata": {
    "application/vnd.databricks.v1+cell": {
     "cellMetadata": {
      "byteLimit": 2048000,
      "implicitDf": true,
      "rowLimit": 10000
     },
     "inputWidgets": {},
     "nuid": "cef16de9-5f0b-4816-943d-547c2fedb02c",
     "showTitle": false,
     "tableResultSettingsMap": {},
     "title": ""
    }
   },
   "outputs": [],
   "source": [
    "spark.sql(\"SELECT * FROM gold_sales_tbl ORDER BY order_date, region;\").display()"
   ]
  },
  {
   "cell_type": "markdown",
   "metadata": {
    "application/vnd.databricks.v1+cell": {
     "cellMetadata": {},
     "inputWidgets": {},
     "nuid": "0553b7c2-aa2e-4e0e-8a42-f53963fc7aa6",
     "showTitle": false,
     "tableResultSettingsMap": {},
     "title": ""
    }
   },
   "source": [
    "### Add More Sales Records"
   ]
  },
  {
   "cell_type": "code",
   "execution_count": 0,
   "metadata": {
    "application/vnd.databricks.v1+cell": {
     "cellMetadata": {
      "byteLimit": 2048000,
      "rowLimit": 10000
     },
     "inputWidgets": {},
     "nuid": "ff948a92-59e3-4b4d-b057-4e06cd45e5b5",
     "showTitle": false,
     "tableResultSettingsMap": {},
     "title": ""
    }
   },
   "outputs": [],
   "source": [
    "generate_sales_data(30)  # Simulate new incoming data"
   ]
  },
  {
   "cell_type": "code",
   "execution_count": 0,
   "metadata": {
    "application/vnd.databricks.v1+cell": {
     "cellMetadata": {
      "byteLimit": 2048000,
      "implicitDf": true,
      "rowLimit": 10000
     },
     "inputWidgets": {},
     "nuid": "db81f927-2041-4932-afa1-c7d35534d890",
     "showTitle": false,
     "tableResultSettingsMap": {},
     "title": ""
    }
   },
   "outputs": [],
   "source": [
    "spark.sql(\"SELECT * FROM gold_sales_tbl ORDER BY order_date, region;\").display()"
   ]
  },
  {
   "cell_type": "code",
   "execution_count": 0,
   "metadata": {
    "application/vnd.databricks.v1+cell": {
     "cellMetadata": {
      "byteLimit": 2048000,
      "rowLimit": 10000
     },
     "inputWidgets": {},
     "nuid": "aa914595-4ef1-4d4b-90a9-2bea075549c2",
     "showTitle": false,
     "tableResultSettingsMap": {},
     "title": ""
    }
   },
   "outputs": [],
   "source": [
    "listStream()"
   ]
  },
  {
   "cell_type": "markdown",
   "metadata": {
    "application/vnd.databricks.v1+cell": {
     "cellMetadata": {},
     "inputWidgets": {},
     "nuid": "cfbd4a6e-ddc9-4fb7-85f1-634e509d1ae7",
     "showTitle": false,
     "tableResultSettingsMap": {},
     "title": ""
    }
   },
   "source": [
    "### Clean Up"
   ]
  },
  {
   "cell_type": "code",
   "execution_count": 0,
   "metadata": {
    "application/vnd.databricks.v1+cell": {
     "cellMetadata": {
      "byteLimit": 2048000,
      "rowLimit": 10000
     },
     "inputWidgets": {},
     "nuid": "fcbefbec-6322-4e3b-a9ec-cd546dd1ef1c",
     "showTitle": false,
     "tableResultSettingsMap": {},
     "title": ""
    }
   },
   "outputs": [],
   "source": [
    "cleanup()"
   ]
  }
 ],
 "metadata": {
  "application/vnd.databricks.v1+notebook": {
   "computePreferences": null,
   "dashboards": [],
   "environmentMetadata": {
    "base_environment": "",
    "environment_version": "2"
   },
   "inputWidgetPreferences": null,
   "language": "python",
   "notebookMetadata": {
    "mostRecentlyExecutedCommandWithImplicitDF": {
     "commandId": -1,
     "dataframes": [
      "_sqldf"
     ]
    },
    "pythonIndentUnit": 4
   },
   "notebookName": "Medallion-Architecture",
   "widgets": {}
  },
  "language_info": {
   "name": "python"
  }
 },
 "nbformat": 4,
 "nbformat_minor": 0
}
