{
 "cells": [
  {
   "cell_type": "code",
   "execution_count": 0,
   "metadata": {
    "application/vnd.databricks.v1+cell": {
     "cellMetadata": {
      "byteLimit": 2048000,
      "rowLimit": 10000
     },
     "inputWidgets": {},
     "nuid": "375e64c3-abc7-4070-b80b-2f439d130975",
     "showTitle": false,
     "tableResultSettingsMap": {},
     "title": ""
    }
   },
   "outputs": [],
   "source": [
    "dbutils.secrets.help()"
   ]
  },
  {
   "cell_type": "code",
   "execution_count": 0,
   "metadata": {
    "application/vnd.databricks.v1+cell": {
     "cellMetadata": {
      "byteLimit": 2048000,
      "rowLimit": 10000
     },
     "inputWidgets": {},
     "nuid": "839e2fa9-b90d-437a-9bd4-474025ef978a",
     "showTitle": false,
     "tableResultSettingsMap": {},
     "title": ""
    }
   },
   "outputs": [],
   "source": [
    "dbutils.secrets.listScopes()"
   ]
  },
  {
   "cell_type": "code",
   "execution_count": 0,
   "metadata": {
    "application/vnd.databricks.v1+cell": {
     "cellMetadata": {
      "byteLimit": 2048000,
      "rowLimit": 10000
     },
     "inputWidgets": {},
     "nuid": "bb85d172-4919-4fbc-9f1d-3b4eebf244ec",
     "showTitle": false,
     "tableResultSettingsMap": {},
     "title": ""
    }
   },
   "outputs": [],
   "source": [
    "dbutils.secrets.list('AKV')"
   ]
  },
  {
   "cell_type": "code",
   "execution_count": 0,
   "metadata": {
    "application/vnd.databricks.v1+cell": {
     "cellMetadata": {
      "byteLimit": 2048000,
      "rowLimit": 10000
     },
     "inputWidgets": {},
     "nuid": "493ff396-4bd1-495a-bde4-1e4b61521e99",
     "showTitle": false,
     "tableResultSettingsMap": {},
     "title": ""
    }
   },
   "outputs": [],
   "source": [
    "dbutils.secrets.get(scope='AKV', key='appSecret') if dbutils.secrets.get(scope='AKV', key='appSecret') else None"
   ]
  },
  {
   "cell_type": "code",
   "execution_count": 0,
   "metadata": {
    "application/vnd.databricks.v1+cell": {
     "cellMetadata": {
      "byteLimit": 2048000,
      "rowLimit": 10000
     },
     "inputWidgets": {},
     "nuid": "bed01ddc-cacd-4a7b-9beb-33783d656726",
     "showTitle": false,
     "tableResultSettingsMap": {},
     "title": ""
    }
   },
   "outputs": [],
   "source": [
    "dbutils.fs.unmount(\"/mnt/files\")"
   ]
  },
  {
   "cell_type": "code",
   "execution_count": 0,
   "metadata": {
    "application/vnd.databricks.v1+cell": {
     "cellMetadata": {
      "byteLimit": 2048000,
      "rowLimit": 10000
     },
     "inputWidgets": {},
     "nuid": "9da73c48-4aaf-4319-9ecf-89a620f12434",
     "showTitle": false,
     "tableResultSettingsMap": {},
     "title": ""
    }
   },
   "outputs": [],
   "source": [
    "# Setup Lab Environment\n",
    "\n",
    "## Setup Variables for configuration\n",
    "storageAccountName  = \"storage33e\"\n",
    "containerName       = \"files\"\n",
    "applicationId       = \"4bc80d39-ea56-4177-b0e5-b849eacd3341\"\n",
    "applicationSecret   = dbutils.secrets.get(scope='AKV', key='appSecret')\n",
    "mountPoint          = \"/mnt/files\"\n",
    "directoryId         = \"7f0dccb5-4972-4b9c-bcb6-1f0cf0ea5dfa\"\n",
    "directory\t\t\t= \"\"\n",
    "\n",
    "configs={\n",
    "\t\"fs.azure.account.auth.type\": \"OAuth\",\n",
    "\t\"fs.azure.account.oauth.provider.type\": \"org.apache.hadoop.fs.azurebfs.oauth2.ClientCredsTokenProvider\",\n",
    "\t\"fs.azure.account.oauth2.client.id\": applicationId,\n",
    "\t\"fs.azure.account.oauth2.client.secret\": applicationSecret,\t\n",
    "\t\"fs.azure.account.oauth2.client.endpoint\": f\"https://login.microsoftonline.com/{directoryId}/oauth2/token\"}\n",
    "\n",
    "source = f\"abfss://{containerName}@{storageAccountName}.dfs.core.windows.net/{directory}\"\n",
    "\n",
    "# Create a mount point if not exists\n",
    "if not any(mnt.mountPoint == mountPoint for mnt in dbutils.fs.mounts()):\n",
    "  dbutils.fs.mount(source = source, mount_point = mountPoint, extra_configs = configs)\n",
    "\n",
    "print(\"Environment setup Completed.\")"
   ]
  }
 ],
 "metadata": {
  "application/vnd.databricks.v1+notebook": {
   "computePreferences": null,
   "dashboards": [],
   "environmentMetadata": null,
   "inputWidgetPreferences": null,
   "language": "python",
   "notebookMetadata": {
    "pythonIndentUnit": 4
   },
   "notebookName": "MountDatasetSample",
   "widgets": {}
  },
  "language_info": {
   "name": "python"
  }
 },
 "nbformat": 4,
 "nbformat_minor": 0
}
